{
  "nbformat": 4,
  "nbformat_minor": 0,
  "metadata": {
    "colab": {
      "provenance": [],
      "include_colab_link": true
    },
    "kernelspec": {
      "name": "python3",
      "display_name": "Python 3"
    },
    "language_info": {
      "name": "python"
    }
  },
  "cells": [
    {
      "cell_type": "markdown",
      "metadata": {
        "id": "view-in-github",
        "colab_type": "text"
      },
      "source": [
        "<a href=\"https://colab.research.google.com/github/suneer333/VectorDB/blob/main/EDA_%26_Visualization_1_Assignment.ipynb\" target=\"_parent\"><img src=\"https://colab.research.google.com/assets/colab-badge.svg\" alt=\"Open In Colab\"/></a>"
      ]
    },
    {
      "cell_type": "code",
      "source": [
        "# Import the required libraries\n",
        "\n",
        "import numpy as np\n",
        "import pandas as pd\n",
        "import matplotlib.pyplot as plt\n",
        "import seaborn as sns\n",
        "\n",
        "# This line ensures that plots appear directly in the notebook\n",
        "%matplotlib inline"
      ],
      "metadata": {
        "id": "TJbONUBE17ay"
      },
      "execution_count": null,
      "outputs": []
    },
    {
      "cell_type": "markdown",
      "source": [
        "# **Problem Statement**\n",
        "\n",
        "You are required to perform a comprehensive exploratory data analysis (EDA) and visualization on a dataset comprising 1,825 coding problems sourced from LeetCode. The dataset includes various attributes such as problem titles, descriptions, difficulty levels, acceptance rates, associated companies, and community feedback (likes, dislikes, and discussion counts).\n",
        "\n",
        "\n",
        "\n",
        "---\n",
        "\n",
        "\n",
        "\n",
        "**Leeetcode Dataset:** [Leetcode Dataset](https://drive.google.com/file/d/1y6Wj2ddKM-YL5Y1xFcZ4In_6oW1WK8PR/view?usp=sharing)\n",
        "\n",
        "The dataset contains information about various coding problems from LeetCode, with a total of 1,825 entries and 19 columns. Key columns include:\n",
        "\n",
        "- **id**: problem id\n",
        "- **title**: problem name\n",
        "- **description**: problem description\n",
        "- **is_premium**: whether the questions requires a premium account\n",
        "- **difficulty**: easy, medium, or hard\n",
        "- **solution_link**: how often the answer submitted is correct\n",
        "- **acceptance_rate**: how often the answer submitted is correct\n",
        "- **frequency**: how often the problem is attempted\n",
        "- **url**: url to the problem\n",
        "- **discuss_count**: how many comments are submitted by users\n",
        "- **accepted**: how many times the answer was accepted\n",
        "- **submissions**: how many times the answer was submitted\n",
        "- **companies**: which companies were tagged as having asked this specific problem\n",
        "- **related_topics**: related topics to the current problem\n",
        "- **likes**: how many likes the problem got\n",
        "- **dislikes**: how many dislikes the problem got\n",
        "- **rating**: likes / (likes + dislikes)\n",
        "- **asked_by_faang**: whether or not the question was asked by facebook, apple, amazon, google, or netflix\n",
        "- **similar_questions**: similar problems with problem name, slug, and difficulty\n",
        "\n"
      ],
      "metadata": {
        "id": "c59oAsR5UvVT"
      }
    },
    {
      "cell_type": "markdown",
      "source": [
        "## Load Dataset"
      ],
      "metadata": {
        "id": "mfFuZ4EZpw-X"
      }
    },
    {
      "cell_type": "code",
      "source": [
        "# Importing CSV file from local device\n",
        "\n",
        "from google.colab import files\n",
        "leetcode_dataset = files.upload()"
      ],
      "metadata": {
        "colab": {
          "base_uri": "https://localhost:8080/",
          "height": 73
        },
        "id": "ZBdtM_u0ki4P",
        "outputId": "f658ea33-37bd-4f31-c2bd-f37c9023872e"
      },
      "execution_count": null,
      "outputs": [
        {
          "output_type": "display_data",
          "data": {
            "text/plain": [
              "<IPython.core.display.HTML object>"
            ],
            "text/html": [
              "\n",
              "     <input type=\"file\" id=\"files-408870b9-59c6-402f-a8f0-4a236302ed58\" name=\"files[]\" multiple disabled\n",
              "        style=\"border:none\" />\n",
              "     <output id=\"result-408870b9-59c6-402f-a8f0-4a236302ed58\">\n",
              "      Upload widget is only available when the cell has been executed in the\n",
              "      current browser session. Please rerun this cell to enable.\n",
              "      </output>\n",
              "      <script>// Copyright 2017 Google LLC\n",
              "//\n",
              "// Licensed under the Apache License, Version 2.0 (the \"License\");\n",
              "// you may not use this file except in compliance with the License.\n",
              "// You may obtain a copy of the License at\n",
              "//\n",
              "//      http://www.apache.org/licenses/LICENSE-2.0\n",
              "//\n",
              "// Unless required by applicable law or agreed to in writing, software\n",
              "// distributed under the License is distributed on an \"AS IS\" BASIS,\n",
              "// WITHOUT WARRANTIES OR CONDITIONS OF ANY KIND, either express or implied.\n",
              "// See the License for the specific language governing permissions and\n",
              "// limitations under the License.\n",
              "\n",
              "/**\n",
              " * @fileoverview Helpers for google.colab Python module.\n",
              " */\n",
              "(function(scope) {\n",
              "function span(text, styleAttributes = {}) {\n",
              "  const element = document.createElement('span');\n",
              "  element.textContent = text;\n",
              "  for (const key of Object.keys(styleAttributes)) {\n",
              "    element.style[key] = styleAttributes[key];\n",
              "  }\n",
              "  return element;\n",
              "}\n",
              "\n",
              "// Max number of bytes which will be uploaded at a time.\n",
              "const MAX_PAYLOAD_SIZE = 100 * 1024;\n",
              "\n",
              "function _uploadFiles(inputId, outputId) {\n",
              "  const steps = uploadFilesStep(inputId, outputId);\n",
              "  const outputElement = document.getElementById(outputId);\n",
              "  // Cache steps on the outputElement to make it available for the next call\n",
              "  // to uploadFilesContinue from Python.\n",
              "  outputElement.steps = steps;\n",
              "\n",
              "  return _uploadFilesContinue(outputId);\n",
              "}\n",
              "\n",
              "// This is roughly an async generator (not supported in the browser yet),\n",
              "// where there are multiple asynchronous steps and the Python side is going\n",
              "// to poll for completion of each step.\n",
              "// This uses a Promise to block the python side on completion of each step,\n",
              "// then passes the result of the previous step as the input to the next step.\n",
              "function _uploadFilesContinue(outputId) {\n",
              "  const outputElement = document.getElementById(outputId);\n",
              "  const steps = outputElement.steps;\n",
              "\n",
              "  const next = steps.next(outputElement.lastPromiseValue);\n",
              "  return Promise.resolve(next.value.promise).then((value) => {\n",
              "    // Cache the last promise value to make it available to the next\n",
              "    // step of the generator.\n",
              "    outputElement.lastPromiseValue = value;\n",
              "    return next.value.response;\n",
              "  });\n",
              "}\n",
              "\n",
              "/**\n",
              " * Generator function which is called between each async step of the upload\n",
              " * process.\n",
              " * @param {string} inputId Element ID of the input file picker element.\n",
              " * @param {string} outputId Element ID of the output display.\n",
              " * @return {!Iterable<!Object>} Iterable of next steps.\n",
              " */\n",
              "function* uploadFilesStep(inputId, outputId) {\n",
              "  const inputElement = document.getElementById(inputId);\n",
              "  inputElement.disabled = false;\n",
              "\n",
              "  const outputElement = document.getElementById(outputId);\n",
              "  outputElement.innerHTML = '';\n",
              "\n",
              "  const pickedPromise = new Promise((resolve) => {\n",
              "    inputElement.addEventListener('change', (e) => {\n",
              "      resolve(e.target.files);\n",
              "    });\n",
              "  });\n",
              "\n",
              "  const cancel = document.createElement('button');\n",
              "  inputElement.parentElement.appendChild(cancel);\n",
              "  cancel.textContent = 'Cancel upload';\n",
              "  const cancelPromise = new Promise((resolve) => {\n",
              "    cancel.onclick = () => {\n",
              "      resolve(null);\n",
              "    };\n",
              "  });\n",
              "\n",
              "  // Wait for the user to pick the files.\n",
              "  const files = yield {\n",
              "    promise: Promise.race([pickedPromise, cancelPromise]),\n",
              "    response: {\n",
              "      action: 'starting',\n",
              "    }\n",
              "  };\n",
              "\n",
              "  cancel.remove();\n",
              "\n",
              "  // Disable the input element since further picks are not allowed.\n",
              "  inputElement.disabled = true;\n",
              "\n",
              "  if (!files) {\n",
              "    return {\n",
              "      response: {\n",
              "        action: 'complete',\n",
              "      }\n",
              "    };\n",
              "  }\n",
              "\n",
              "  for (const file of files) {\n",
              "    const li = document.createElement('li');\n",
              "    li.append(span(file.name, {fontWeight: 'bold'}));\n",
              "    li.append(span(\n",
              "        `(${file.type || 'n/a'}) - ${file.size} bytes, ` +\n",
              "        `last modified: ${\n",
              "            file.lastModifiedDate ? file.lastModifiedDate.toLocaleDateString() :\n",
              "                                    'n/a'} - `));\n",
              "    const percent = span('0% done');\n",
              "    li.appendChild(percent);\n",
              "\n",
              "    outputElement.appendChild(li);\n",
              "\n",
              "    const fileDataPromise = new Promise((resolve) => {\n",
              "      const reader = new FileReader();\n",
              "      reader.onload = (e) => {\n",
              "        resolve(e.target.result);\n",
              "      };\n",
              "      reader.readAsArrayBuffer(file);\n",
              "    });\n",
              "    // Wait for the data to be ready.\n",
              "    let fileData = yield {\n",
              "      promise: fileDataPromise,\n",
              "      response: {\n",
              "        action: 'continue',\n",
              "      }\n",
              "    };\n",
              "\n",
              "    // Use a chunked sending to avoid message size limits. See b/62115660.\n",
              "    let position = 0;\n",
              "    do {\n",
              "      const length = Math.min(fileData.byteLength - position, MAX_PAYLOAD_SIZE);\n",
              "      const chunk = new Uint8Array(fileData, position, length);\n",
              "      position += length;\n",
              "\n",
              "      const base64 = btoa(String.fromCharCode.apply(null, chunk));\n",
              "      yield {\n",
              "        response: {\n",
              "          action: 'append',\n",
              "          file: file.name,\n",
              "          data: base64,\n",
              "        },\n",
              "      };\n",
              "\n",
              "      let percentDone = fileData.byteLength === 0 ?\n",
              "          100 :\n",
              "          Math.round((position / fileData.byteLength) * 100);\n",
              "      percent.textContent = `${percentDone}% done`;\n",
              "\n",
              "    } while (position < fileData.byteLength);\n",
              "  }\n",
              "\n",
              "  // All done.\n",
              "  yield {\n",
              "    response: {\n",
              "      action: 'complete',\n",
              "    }\n",
              "  };\n",
              "}\n",
              "\n",
              "scope.google = scope.google || {};\n",
              "scope.google.colab = scope.google.colab || {};\n",
              "scope.google.colab._files = {\n",
              "  _uploadFiles,\n",
              "  _uploadFilesContinue,\n",
              "};\n",
              "})(self);\n",
              "</script> "
            ]
          },
          "metadata": {}
        },
        {
          "output_type": "stream",
          "name": "stdout",
          "text": [
            "Saving leetcode_dataset - lc.csv to leetcode_dataset - lc.csv\n"
          ]
        }
      ]
    },
    {
      "cell_type": "code",
      "source": [
        "leetcode_df = pd.read_csv(\"leetcode_dataset - lc.csv\")"
      ],
      "metadata": {
        "id": "q2yMtwc8qRwo"
      },
      "execution_count": null,
      "outputs": []
    },
    {
      "cell_type": "markdown",
      "source": [
        "## Data Exploration"
      ],
      "metadata": {
        "id": "sKbyx3f62Zbm"
      }
    },
    {
      "cell_type": "code",
      "source": [
        "leetcode_df.head()"
      ],
      "metadata": {
        "colab": {
          "base_uri": "https://localhost:8080/",
          "height": 556
        },
        "id": "ImRuZiH5V6yh",
        "outputId": "343fea14-51a2-461b-b5aa-9e5ccc966ac0"
      },
      "execution_count": null,
      "outputs": [
        {
          "output_type": "execute_result",
          "data": {
            "text/plain": [
              "   id                                           title  \\\n",
              "0   1                                         Two Sum   \n",
              "1   2                                 Add Two Numbers   \n",
              "2   3  Longest Substring Without Repeating Characters   \n",
              "3   4                     Median of Two Sorted Arrays   \n",
              "4   5                   Longest Palindromic Substring   \n",
              "\n",
              "                                         description  is_premium difficulty  \\\n",
              "0  Given an array of integers `nums` and an integ...           0       Easy   \n",
              "1  You are given two non-empty linked lists repre...           0     Medium   \n",
              "2  Given a string `s`, find the length of the lon...           0     Medium   \n",
              "3  Given two sorted arrays `nums1` and `nums2` of...           0       Hard   \n",
              "4  Given a string `s`, return the longest palindr...           0     Medium   \n",
              "\n",
              "                                       solution_link  acceptance_rate  \\\n",
              "0                                  /articles/two-sum             46.7   \n",
              "1                          /articles/add-two-numbers             35.7   \n",
              "2  /articles/longest-substring-without-repeating-...             31.5   \n",
              "3              /articles/median-of-two-sorted-arrays             31.4   \n",
              "4            /articles/longest-palindromic-substring             30.6   \n",
              "\n",
              "   frequency                                                url  \\\n",
              "0      100.0              https://leetcode.com/problems/two-sum   \n",
              "1       93.1      https://leetcode.com/problems/add-two-numbers   \n",
              "2       90.9  https://leetcode.com/problems/longest-substrin...   \n",
              "3       86.2  https://leetcode.com/problems/median-of-two-so...   \n",
              "4       84.7  https://leetcode.com/problems/longest-palindro...   \n",
              "\n",
              "   discuss_count accepted submissions  \\\n",
              "0            999     4.1M        8.7M   \n",
              "1            999     1.9M        5.2M   \n",
              "2            999     2.1M        6.7M   \n",
              "3            999   904.7K        2.9M   \n",
              "4            999     1.3M        4.1M   \n",
              "\n",
              "                                           companies  \\\n",
              "0  Amazon,Google,Apple,Adobe,Microsoft,Bloomberg,...   \n",
              "1  Bloomberg,Microsoft,Amazon,Google,Facebook,App...   \n",
              "2  Amazon,Bloomberg,Microsoft,Facebook,Apple,Adob...   \n",
              "3  Amazon,Goldman Sachs,Facebook,Microsoft,Apple,...   \n",
              "4  Amazon,Microsoft,Wayfair,Facebook,Adobe,eBay,G...   \n",
              "\n",
              "                                  related_topics  likes  dislikes  rating  \\\n",
              "0                               Array,Hash Table  20217       712      97   \n",
              "1                     Linked List,Math,Recursion  11350      2704      81   \n",
              "2  Hash Table,Two Pointers,String,Sliding Window  13810       714      95   \n",
              "3         Array,Binary Search,Divide and Conquer   9665      1486      87   \n",
              "4                     String,Dynamic Programming  10271       670      94   \n",
              "\n",
              "   asked_by_faang                                  similar_questions  \n",
              "0               1  [3Sum, /problems/3sum/, Medium], [4Sum, /probl...  \n",
              "1               1  [Multiply Strings, /problems/multiply-strings/...  \n",
              "2               1  [Longest Substring with At Most Two Distinct C...  \n",
              "3               1                                                NaN  \n",
              "4               1  [Shortest Palindrome, /problems/shortest-palin...  "
            ],
            "text/html": [
              "\n",
              "  <div id=\"df-f6ab29c3-66cd-490f-ab9f-9bf605cd6220\" class=\"colab-df-container\">\n",
              "    <div>\n",
              "<style scoped>\n",
              "    .dataframe tbody tr th:only-of-type {\n",
              "        vertical-align: middle;\n",
              "    }\n",
              "\n",
              "    .dataframe tbody tr th {\n",
              "        vertical-align: top;\n",
              "    }\n",
              "\n",
              "    .dataframe thead th {\n",
              "        text-align: right;\n",
              "    }\n",
              "</style>\n",
              "<table border=\"1\" class=\"dataframe\">\n",
              "  <thead>\n",
              "    <tr style=\"text-align: right;\">\n",
              "      <th></th>\n",
              "      <th>id</th>\n",
              "      <th>title</th>\n",
              "      <th>description</th>\n",
              "      <th>is_premium</th>\n",
              "      <th>difficulty</th>\n",
              "      <th>solution_link</th>\n",
              "      <th>acceptance_rate</th>\n",
              "      <th>frequency</th>\n",
              "      <th>url</th>\n",
              "      <th>discuss_count</th>\n",
              "      <th>accepted</th>\n",
              "      <th>submissions</th>\n",
              "      <th>companies</th>\n",
              "      <th>related_topics</th>\n",
              "      <th>likes</th>\n",
              "      <th>dislikes</th>\n",
              "      <th>rating</th>\n",
              "      <th>asked_by_faang</th>\n",
              "      <th>similar_questions</th>\n",
              "    </tr>\n",
              "  </thead>\n",
              "  <tbody>\n",
              "    <tr>\n",
              "      <th>0</th>\n",
              "      <td>1</td>\n",
              "      <td>Two Sum</td>\n",
              "      <td>Given an array of integers `nums` and an integ...</td>\n",
              "      <td>0</td>\n",
              "      <td>Easy</td>\n",
              "      <td>/articles/two-sum</td>\n",
              "      <td>46.7</td>\n",
              "      <td>100.0</td>\n",
              "      <td>https://leetcode.com/problems/two-sum</td>\n",
              "      <td>999</td>\n",
              "      <td>4.1M</td>\n",
              "      <td>8.7M</td>\n",
              "      <td>Amazon,Google,Apple,Adobe,Microsoft,Bloomberg,...</td>\n",
              "      <td>Array,Hash Table</td>\n",
              "      <td>20217</td>\n",
              "      <td>712</td>\n",
              "      <td>97</td>\n",
              "      <td>1</td>\n",
              "      <td>[3Sum, /problems/3sum/, Medium], [4Sum, /probl...</td>\n",
              "    </tr>\n",
              "    <tr>\n",
              "      <th>1</th>\n",
              "      <td>2</td>\n",
              "      <td>Add Two Numbers</td>\n",
              "      <td>You are given two non-empty linked lists repre...</td>\n",
              "      <td>0</td>\n",
              "      <td>Medium</td>\n",
              "      <td>/articles/add-two-numbers</td>\n",
              "      <td>35.7</td>\n",
              "      <td>93.1</td>\n",
              "      <td>https://leetcode.com/problems/add-two-numbers</td>\n",
              "      <td>999</td>\n",
              "      <td>1.9M</td>\n",
              "      <td>5.2M</td>\n",
              "      <td>Bloomberg,Microsoft,Amazon,Google,Facebook,App...</td>\n",
              "      <td>Linked List,Math,Recursion</td>\n",
              "      <td>11350</td>\n",
              "      <td>2704</td>\n",
              "      <td>81</td>\n",
              "      <td>1</td>\n",
              "      <td>[Multiply Strings, /problems/multiply-strings/...</td>\n",
              "    </tr>\n",
              "    <tr>\n",
              "      <th>2</th>\n",
              "      <td>3</td>\n",
              "      <td>Longest Substring Without Repeating Characters</td>\n",
              "      <td>Given a string `s`, find the length of the lon...</td>\n",
              "      <td>0</td>\n",
              "      <td>Medium</td>\n",
              "      <td>/articles/longest-substring-without-repeating-...</td>\n",
              "      <td>31.5</td>\n",
              "      <td>90.9</td>\n",
              "      <td>https://leetcode.com/problems/longest-substrin...</td>\n",
              "      <td>999</td>\n",
              "      <td>2.1M</td>\n",
              "      <td>6.7M</td>\n",
              "      <td>Amazon,Bloomberg,Microsoft,Facebook,Apple,Adob...</td>\n",
              "      <td>Hash Table,Two Pointers,String,Sliding Window</td>\n",
              "      <td>13810</td>\n",
              "      <td>714</td>\n",
              "      <td>95</td>\n",
              "      <td>1</td>\n",
              "      <td>[Longest Substring with At Most Two Distinct C...</td>\n",
              "    </tr>\n",
              "    <tr>\n",
              "      <th>3</th>\n",
              "      <td>4</td>\n",
              "      <td>Median of Two Sorted Arrays</td>\n",
              "      <td>Given two sorted arrays `nums1` and `nums2` of...</td>\n",
              "      <td>0</td>\n",
              "      <td>Hard</td>\n",
              "      <td>/articles/median-of-two-sorted-arrays</td>\n",
              "      <td>31.4</td>\n",
              "      <td>86.2</td>\n",
              "      <td>https://leetcode.com/problems/median-of-two-so...</td>\n",
              "      <td>999</td>\n",
              "      <td>904.7K</td>\n",
              "      <td>2.9M</td>\n",
              "      <td>Amazon,Goldman Sachs,Facebook,Microsoft,Apple,...</td>\n",
              "      <td>Array,Binary Search,Divide and Conquer</td>\n",
              "      <td>9665</td>\n",
              "      <td>1486</td>\n",
              "      <td>87</td>\n",
              "      <td>1</td>\n",
              "      <td>NaN</td>\n",
              "    </tr>\n",
              "    <tr>\n",
              "      <th>4</th>\n",
              "      <td>5</td>\n",
              "      <td>Longest Palindromic Substring</td>\n",
              "      <td>Given a string `s`, return the longest palindr...</td>\n",
              "      <td>0</td>\n",
              "      <td>Medium</td>\n",
              "      <td>/articles/longest-palindromic-substring</td>\n",
              "      <td>30.6</td>\n",
              "      <td>84.7</td>\n",
              "      <td>https://leetcode.com/problems/longest-palindro...</td>\n",
              "      <td>999</td>\n",
              "      <td>1.3M</td>\n",
              "      <td>4.1M</td>\n",
              "      <td>Amazon,Microsoft,Wayfair,Facebook,Adobe,eBay,G...</td>\n",
              "      <td>String,Dynamic Programming</td>\n",
              "      <td>10271</td>\n",
              "      <td>670</td>\n",
              "      <td>94</td>\n",
              "      <td>1</td>\n",
              "      <td>[Shortest Palindrome, /problems/shortest-palin...</td>\n",
              "    </tr>\n",
              "  </tbody>\n",
              "</table>\n",
              "</div>\n",
              "    <div class=\"colab-df-buttons\">\n",
              "\n",
              "  <div class=\"colab-df-container\">\n",
              "    <button class=\"colab-df-convert\" onclick=\"convertToInteractive('df-f6ab29c3-66cd-490f-ab9f-9bf605cd6220')\"\n",
              "            title=\"Convert this dataframe to an interactive table.\"\n",
              "            style=\"display:none;\">\n",
              "\n",
              "  <svg xmlns=\"http://www.w3.org/2000/svg\" height=\"24px\" viewBox=\"0 -960 960 960\">\n",
              "    <path d=\"M120-120v-720h720v720H120Zm60-500h600v-160H180v160Zm220 220h160v-160H400v160Zm0 220h160v-160H400v160ZM180-400h160v-160H180v160Zm440 0h160v-160H620v160ZM180-180h160v-160H180v160Zm440 0h160v-160H620v160Z\"/>\n",
              "  </svg>\n",
              "    </button>\n",
              "\n",
              "  <style>\n",
              "    .colab-df-container {\n",
              "      display:flex;\n",
              "      gap: 12px;\n",
              "    }\n",
              "\n",
              "    .colab-df-convert {\n",
              "      background-color: #E8F0FE;\n",
              "      border: none;\n",
              "      border-radius: 50%;\n",
              "      cursor: pointer;\n",
              "      display: none;\n",
              "      fill: #1967D2;\n",
              "      height: 32px;\n",
              "      padding: 0 0 0 0;\n",
              "      width: 32px;\n",
              "    }\n",
              "\n",
              "    .colab-df-convert:hover {\n",
              "      background-color: #E2EBFA;\n",
              "      box-shadow: 0px 1px 2px rgba(60, 64, 67, 0.3), 0px 1px 3px 1px rgba(60, 64, 67, 0.15);\n",
              "      fill: #174EA6;\n",
              "    }\n",
              "\n",
              "    .colab-df-buttons div {\n",
              "      margin-bottom: 4px;\n",
              "    }\n",
              "\n",
              "    [theme=dark] .colab-df-convert {\n",
              "      background-color: #3B4455;\n",
              "      fill: #D2E3FC;\n",
              "    }\n",
              "\n",
              "    [theme=dark] .colab-df-convert:hover {\n",
              "      background-color: #434B5C;\n",
              "      box-shadow: 0px 1px 3px 1px rgba(0, 0, 0, 0.15);\n",
              "      filter: drop-shadow(0px 1px 2px rgba(0, 0, 0, 0.3));\n",
              "      fill: #FFFFFF;\n",
              "    }\n",
              "  </style>\n",
              "\n",
              "    <script>\n",
              "      const buttonEl =\n",
              "        document.querySelector('#df-f6ab29c3-66cd-490f-ab9f-9bf605cd6220 button.colab-df-convert');\n",
              "      buttonEl.style.display =\n",
              "        google.colab.kernel.accessAllowed ? 'block' : 'none';\n",
              "\n",
              "      async function convertToInteractive(key) {\n",
              "        const element = document.querySelector('#df-f6ab29c3-66cd-490f-ab9f-9bf605cd6220');\n",
              "        const dataTable =\n",
              "          await google.colab.kernel.invokeFunction('convertToInteractive',\n",
              "                                                    [key], {});\n",
              "        if (!dataTable) return;\n",
              "\n",
              "        const docLinkHtml = 'Like what you see? Visit the ' +\n",
              "          '<a target=\"_blank\" href=https://colab.research.google.com/notebooks/data_table.ipynb>data table notebook</a>'\n",
              "          + ' to learn more about interactive tables.';\n",
              "        element.innerHTML = '';\n",
              "        dataTable['output_type'] = 'display_data';\n",
              "        await google.colab.output.renderOutput(dataTable, element);\n",
              "        const docLink = document.createElement('div');\n",
              "        docLink.innerHTML = docLinkHtml;\n",
              "        element.appendChild(docLink);\n",
              "      }\n",
              "    </script>\n",
              "  </div>\n",
              "\n",
              "\n",
              "<div id=\"df-76c8e0fc-3ac2-4d54-80d4-1dd60c56ade5\">\n",
              "  <button class=\"colab-df-quickchart\" onclick=\"quickchart('df-76c8e0fc-3ac2-4d54-80d4-1dd60c56ade5')\"\n",
              "            title=\"Suggest charts\"\n",
              "            style=\"display:none;\">\n",
              "\n",
              "<svg xmlns=\"http://www.w3.org/2000/svg\" height=\"24px\"viewBox=\"0 0 24 24\"\n",
              "     width=\"24px\">\n",
              "    <g>\n",
              "        <path d=\"M19 3H5c-1.1 0-2 .9-2 2v14c0 1.1.9 2 2 2h14c1.1 0 2-.9 2-2V5c0-1.1-.9-2-2-2zM9 17H7v-7h2v7zm4 0h-2V7h2v10zm4 0h-2v-4h2v4z\"/>\n",
              "    </g>\n",
              "</svg>\n",
              "  </button>\n",
              "\n",
              "<style>\n",
              "  .colab-df-quickchart {\n",
              "      --bg-color: #E8F0FE;\n",
              "      --fill-color: #1967D2;\n",
              "      --hover-bg-color: #E2EBFA;\n",
              "      --hover-fill-color: #174EA6;\n",
              "      --disabled-fill-color: #AAA;\n",
              "      --disabled-bg-color: #DDD;\n",
              "  }\n",
              "\n",
              "  [theme=dark] .colab-df-quickchart {\n",
              "      --bg-color: #3B4455;\n",
              "      --fill-color: #D2E3FC;\n",
              "      --hover-bg-color: #434B5C;\n",
              "      --hover-fill-color: #FFFFFF;\n",
              "      --disabled-bg-color: #3B4455;\n",
              "      --disabled-fill-color: #666;\n",
              "  }\n",
              "\n",
              "  .colab-df-quickchart {\n",
              "    background-color: var(--bg-color);\n",
              "    border: none;\n",
              "    border-radius: 50%;\n",
              "    cursor: pointer;\n",
              "    display: none;\n",
              "    fill: var(--fill-color);\n",
              "    height: 32px;\n",
              "    padding: 0;\n",
              "    width: 32px;\n",
              "  }\n",
              "\n",
              "  .colab-df-quickchart:hover {\n",
              "    background-color: var(--hover-bg-color);\n",
              "    box-shadow: 0 1px 2px rgba(60, 64, 67, 0.3), 0 1px 3px 1px rgba(60, 64, 67, 0.15);\n",
              "    fill: var(--button-hover-fill-color);\n",
              "  }\n",
              "\n",
              "  .colab-df-quickchart-complete:disabled,\n",
              "  .colab-df-quickchart-complete:disabled:hover {\n",
              "    background-color: var(--disabled-bg-color);\n",
              "    fill: var(--disabled-fill-color);\n",
              "    box-shadow: none;\n",
              "  }\n",
              "\n",
              "  .colab-df-spinner {\n",
              "    border: 2px solid var(--fill-color);\n",
              "    border-color: transparent;\n",
              "    border-bottom-color: var(--fill-color);\n",
              "    animation:\n",
              "      spin 1s steps(1) infinite;\n",
              "  }\n",
              "\n",
              "  @keyframes spin {\n",
              "    0% {\n",
              "      border-color: transparent;\n",
              "      border-bottom-color: var(--fill-color);\n",
              "      border-left-color: var(--fill-color);\n",
              "    }\n",
              "    20% {\n",
              "      border-color: transparent;\n",
              "      border-left-color: var(--fill-color);\n",
              "      border-top-color: var(--fill-color);\n",
              "    }\n",
              "    30% {\n",
              "      border-color: transparent;\n",
              "      border-left-color: var(--fill-color);\n",
              "      border-top-color: var(--fill-color);\n",
              "      border-right-color: var(--fill-color);\n",
              "    }\n",
              "    40% {\n",
              "      border-color: transparent;\n",
              "      border-right-color: var(--fill-color);\n",
              "      border-top-color: var(--fill-color);\n",
              "    }\n",
              "    60% {\n",
              "      border-color: transparent;\n",
              "      border-right-color: var(--fill-color);\n",
              "    }\n",
              "    80% {\n",
              "      border-color: transparent;\n",
              "      border-right-color: var(--fill-color);\n",
              "      border-bottom-color: var(--fill-color);\n",
              "    }\n",
              "    90% {\n",
              "      border-color: transparent;\n",
              "      border-bottom-color: var(--fill-color);\n",
              "    }\n",
              "  }\n",
              "</style>\n",
              "\n",
              "  <script>\n",
              "    async function quickchart(key) {\n",
              "      const quickchartButtonEl =\n",
              "        document.querySelector('#' + key + ' button');\n",
              "      quickchartButtonEl.disabled = true;  // To prevent multiple clicks.\n",
              "      quickchartButtonEl.classList.add('colab-df-spinner');\n",
              "      try {\n",
              "        const charts = await google.colab.kernel.invokeFunction(\n",
              "            'suggestCharts', [key], {});\n",
              "      } catch (error) {\n",
              "        console.error('Error during call to suggestCharts:', error);\n",
              "      }\n",
              "      quickchartButtonEl.classList.remove('colab-df-spinner');\n",
              "      quickchartButtonEl.classList.add('colab-df-quickchart-complete');\n",
              "    }\n",
              "    (() => {\n",
              "      let quickchartButtonEl =\n",
              "        document.querySelector('#df-76c8e0fc-3ac2-4d54-80d4-1dd60c56ade5 button');\n",
              "      quickchartButtonEl.style.display =\n",
              "        google.colab.kernel.accessAllowed ? 'block' : 'none';\n",
              "    })();\n",
              "  </script>\n",
              "</div>\n",
              "\n",
              "    </div>\n",
              "  </div>\n"
            ],
            "application/vnd.google.colaboratory.intrinsic+json": {
              "type": "dataframe",
              "variable_name": "leetcode_df",
              "summary": "{\n  \"name\": \"leetcode_df\",\n  \"rows\": 1825,\n  \"fields\": [\n    {\n      \"column\": \"id\",\n      \"properties\": {\n        \"dtype\": \"number\",\n        \"std\": 526,\n        \"min\": 1,\n        \"max\": 1825,\n        \"num_unique_values\": 1825,\n        \"samples\": [\n          556,\n          1745,\n          298\n        ],\n        \"semantic_type\": \"\",\n        \"description\": \"\"\n      }\n    },\n    {\n      \"column\": \"title\",\n      \"properties\": {\n        \"dtype\": \"string\",\n        \"num_unique_values\": 1825,\n        \"samples\": [\n          \"Next Greater Element III\",\n          \"Palindrome Partitioning IV\",\n          \"Binary Tree Longest Consecutive Sequence\"\n        ],\n        \"semantic_type\": \"\",\n        \"description\": \"\"\n      }\n    },\n    {\n      \"column\": \"description\",\n      \"properties\": {\n        \"dtype\": \"string\",\n        \"num_unique_values\": 1670,\n        \"samples\": [\n          \"You are given two lists of closed intervals, `firstList` and `secondList`, where `firstList[i] = [starti, endi]` and `secondList[j] = [startj, endj]`. Each list of intervals is pairwise disjoint and in sorted order.\\n\\nReturn the intersection of these two interval lists.\\n\\nA closed interval `[a, b]` (with `a < b`) denotes the set of real numbers `x` with `a <= x <= b`.\\n\\nThe intersection of two closed intervals is a set of real numbers that are either empty or represented as a closed interval. For example, the intersection of `[1, 3]` and `[2, 4]` is `[2, 3]`.\\n\\n\\nExample 1:\\nInput: firstList = [[0,2],[5,10],[13,23],[24,25]], secondList = [[1,5],[8,12],[15,24],[25,26]]\\nOutput: [[1,2],[5,5],[8,10],[15,23],[24,24],[25,25]]\\n\\nExample 2:\\nInput: firstList = [[1,3],[5,9]], secondList = []\\nOutput: []\\n\\nExample 3:\\nInput: firstList = [], secondList = [[4,8],[10,12]]\\nOutput: []\\n\\nExample 4:\\nInput: firstList = [[1,7]], secondList = [[3,10]]\\nOutput: [[3,7]]\\n\\nConstraints:\\n`0 <= firstList.length, secondList.length <= 1000`\\n`firstList.length + secondList.length >= 1`\\n`0 <= starti < endi <= 109`\\n`endi < starti+1`\\n`0 <= startj < endj <= 109 `\\n`endj < startj+1`\",\n          \"Three stones are on a number line at positions `a`, `b`, and `c`.\\n\\nEach turn, you pick up a stone at an endpoint (ie., either the lowest or highest position stone), and move it to an unoccupied position between those endpoints.  Formally, let's say the stones are currently at positions `x, y, z` with `x < y < z`.  You pick up the stone at either position `x` or position `z`, and move that stone to an integer position `k`, with `x < k < z` and `k != y`.\\n\\nThe game ends when you cannot make any more moves, ie. the stones are in consecutive positions.\\n\\nWhen the game ends, what is the minimum and maximum number of moves that you could have made?  Return the answer as an length 2 array: `answer = [minimum_moves, maximum_moves]`\\n\\nExample 1:\\nInput: a = 1, b = 2, c = 5\\nOutput: [1,2]\\nExplanation: Move the stone from 5 to 3, or move the stone from 5 to 4 to 3.\\n\\n\\nExample 2:\\nInput: a = 4, b = 3, c = 2\\nOutput: [0,0]\\nExplanation: We cannot make any moves.\\n\\n\\nExample 3:\\nInput: a = 3, b = 5, c = 1\\nOutput: [1,2]\\nExplanation: Move the stone from 1 to 4; or move the stone from 1 to 2 to 4.\\n\\nNote:\\n`1 <= a <= 100`\\n`1 <= b <= 100`\\n`1 <= c <= 100`\\n`a != b, b != c, c != a`\",\n          \"You are given an `m x n` integer matrix `heights` representing the height of each unit cell in a continent. The Pacific ocean touches the continent's left and top edges, and the Atlantic ocean touches the continent's right and bottom edges.\\n\\nWater can only flow in four directions: up, down, left, and right. Water flows from a cell to an adjacent one with an equal or lower height.\\n\\nReturn a list of grid coordinates where water can flow to both the Pacific and Atlantic oceans.\\n\\n\\nExample 1:\\nInput: heights = [[1,2,2,3,5],[3,2,3,4,4],[2,4,5,3,1],[6,7,1,4,5],[5,1,1,2,4]]\\nOutput: [[0,4],[1,3],[1,4],[2,2],[3,0],[3,1],[4,0]]\\n\\nExample 2:\\nInput: heights = [[2,1],[1,2]]\\nOutput: [[0,0],[0,1],[1,0],[1,1]]\\n\\nConstraints:\\n`m == heights.length`\\n`n == heights[i].length`\\n`1 <= m, n <= 200`\\n`1 <= heights[i][j] <= 105`\"\n        ],\n        \"semantic_type\": \"\",\n        \"description\": \"\"\n      }\n    },\n    {\n      \"column\": \"is_premium\",\n      \"properties\": {\n        \"dtype\": \"number\",\n        \"std\": 0,\n        \"min\": 0,\n        \"max\": 1,\n        \"num_unique_values\": 2,\n        \"samples\": [\n          1,\n          0\n        ],\n        \"semantic_type\": \"\",\n        \"description\": \"\"\n      }\n    },\n    {\n      \"column\": \"difficulty\",\n      \"properties\": {\n        \"dtype\": \"category\",\n        \"num_unique_values\": 3,\n        \"samples\": [\n          \"Easy\",\n          \"Medium\"\n        ],\n        \"semantic_type\": \"\",\n        \"description\": \"\"\n      }\n    },\n    {\n      \"column\": \"solution_link\",\n      \"properties\": {\n        \"dtype\": \"string\",\n        \"num_unique_values\": 987,\n        \"samples\": [\n          \"/articles/largest-divisible-subset\",\n          \"/articles/evaluate-reverse-polish-notation\"\n        ],\n        \"semantic_type\": \"\",\n        \"description\": \"\"\n      }\n    },\n    {\n      \"column\": \"acceptance_rate\",\n      \"properties\": {\n        \"dtype\": \"number\",\n        \"std\": 14.778410894980217,\n        \"min\": 13.9,\n        \"max\": 95.6,\n        \"num_unique_values\": 576,\n        \"samples\": [\n          72.5,\n          41.0\n        ],\n        \"semantic_type\": \"\",\n        \"description\": \"\"\n      }\n    },\n    {\n      \"column\": \"frequency\",\n      \"properties\": {\n        \"dtype\": \"number\",\n        \"std\": 22.364741223900097,\n        \"min\": 0.0,\n        \"max\": 100.0,\n        \"num_unique_values\": 619,\n        \"samples\": [\n          60.1,\n          44.9\n        ],\n        \"semantic_type\": \"\",\n        \"description\": \"\"\n      }\n    },\n    {\n      \"column\": \"url\",\n      \"properties\": {\n        \"dtype\": \"string\",\n        \"num_unique_values\": 1825,\n        \"samples\": [\n          \"https://leetcode.com/problems/next-greater-element-iii\",\n          \"https://leetcode.com/problems/palindrome-partitioning-iv\"\n        ],\n        \"semantic_type\": \"\",\n        \"description\": \"\"\n      }\n    },\n    {\n      \"column\": \"discuss_count\",\n      \"properties\": {\n        \"dtype\": \"number\",\n        \"std\": 330,\n        \"min\": 9,\n        \"max\": 999,\n        \"num_unique_values\": 642,\n        \"samples\": [\n          918,\n          635\n        ],\n        \"semantic_type\": \"\",\n        \"description\": \"\"\n      }\n    },\n    {\n      \"column\": \"accepted\",\n      \"properties\": {\n        \"dtype\": \"string\",\n        \"num_unique_values\": 1098,\n        \"samples\": [\n          \"553.5K\",\n          \"148.9K\"\n        ],\n        \"semantic_type\": \"\",\n        \"description\": \"\"\n      }\n    },\n    {\n      \"column\": \"submissions\",\n      \"properties\": {\n        \"dtype\": \"string\",\n        \"num_unique_values\": 1236,\n        \"samples\": [\n          \"118.2K\",\n          \"26.9K\"\n        ],\n        \"semantic_type\": \"\",\n        \"description\": \"\"\n      }\n    },\n    {\n      \"column\": \"companies\",\n      \"properties\": {\n        \"dtype\": \"category\",\n        \"num_unique_values\": 691,\n        \"samples\": [\n          \"Pocket Gems\",\n          \"edabit\"\n        ],\n        \"semantic_type\": \"\",\n        \"description\": \"\"\n      }\n    },\n    {\n      \"column\": \"related_topics\",\n      \"properties\": {\n        \"dtype\": \"category\",\n        \"num_unique_values\": 320,\n        \"samples\": [\n          \"Geometry\",\n          \"Math,Backtracking,Graph\"\n        ],\n        \"semantic_type\": \"\",\n        \"description\": \"\"\n      }\n    },\n    {\n      \"column\": \"likes\",\n      \"properties\": {\n        \"dtype\": \"number\",\n        \"std\": 1512,\n        \"min\": 2,\n        \"max\": 20217,\n        \"num_unique_values\": 1161,\n        \"samples\": [\n          655,\n          104\n        ],\n        \"semantic_type\": \"\",\n        \"description\": \"\"\n      }\n    },\n    {\n      \"column\": \"dislikes\",\n      \"properties\": {\n        \"dtype\": \"number\",\n        \"std\": 608,\n        \"min\": 0,\n        \"max\": 8900,\n        \"num_unique_values\": 603,\n        \"samples\": [\n          130,\n          176\n        ],\n        \"semantic_type\": \"\",\n        \"description\": \"\"\n      }\n    },\n    {\n      \"column\": \"rating\",\n      \"properties\": {\n        \"dtype\": \"number\",\n        \"std\": 23,\n        \"min\": 7,\n        \"max\": 100,\n        \"num_unique_values\": 94,\n        \"samples\": [\n          31,\n          74\n        ],\n        \"semantic_type\": \"\",\n        \"description\": \"\"\n      }\n    },\n    {\n      \"column\": \"asked_by_faang\",\n      \"properties\": {\n        \"dtype\": \"number\",\n        \"std\": 0,\n        \"min\": 0,\n        \"max\": 1,\n        \"num_unique_values\": 2,\n        \"samples\": [\n          0,\n          1\n        ],\n        \"semantic_type\": \"\",\n        \"description\": \"\"\n      }\n    },\n    {\n      \"column\": \"similar_questions\",\n      \"properties\": {\n        \"dtype\": \"category\",\n        \"num_unique_values\": 689,\n        \"samples\": [\n          \"[Longest Increasing Subsequence, /problems/longest-increasing-subsequence/, Medium]\",\n          \"[Stone Game, /problems/stone-game/, Medium], [Stone Game II, /problems/stone-game-ii/, Medium], [Stone Game III, /problems/stone-game-iii/, Hard], [Stone Game IV, /problems/stone-game-iv/, Hard], [Stone Game V, /problems/stone-game-v/, Hard], [Stone Game VII, /problems/stone-game-vii/, Medium]\"\n        ],\n        \"semantic_type\": \"\",\n        \"description\": \"\"\n      }\n    }\n  ]\n}"
            }
          },
          "metadata": {},
          "execution_count": 6
        }
      ]
    },
    {
      "cell_type": "markdown",
      "source": [
        "##Question 1\n",
        "####What is the Shape of the dataset?"
      ],
      "metadata": {
        "id": "Qo2pP4EpVEvo"
      }
    },
    {
      "cell_type": "code",
      "source": [
        "#Solution 1(your code here)\n"
      ],
      "metadata": {
        "id": "Gi87JqjL2Yv0"
      },
      "execution_count": null,
      "outputs": []
    },
    {
      "cell_type": "code",
      "source": [],
      "metadata": {
        "id": "mELSWCg_26lv"
      },
      "execution_count": null,
      "outputs": []
    },
    {
      "cell_type": "markdown",
      "source": [
        "##Question 2\n",
        "####What is the datatype of **accepted**, **submissions** and **acceptance rate** fields?\n",
        "\n",
        "Think: What point should be noted here? Do all columns have the proper datatype?"
      ],
      "metadata": {
        "id": "4KIYQvDMVjee"
      }
    },
    {
      "cell_type": "code",
      "source": [
        "#Solution 2(your code here)\n"
      ],
      "metadata": {
        "id": "zfI_d7C7V_iB"
      },
      "execution_count": null,
      "outputs": []
    },
    {
      "cell_type": "markdown",
      "source": [
        "##Question 3\n",
        "####What is the number of missing values corresponding to each field?"
      ],
      "metadata": {
        "id": "8R5lD2l6WE2C"
      }
    },
    {
      "cell_type": "code",
      "source": [
        "#Solution 3(your code here)\n",
        "#number of missing values corresponding to each field\n"
      ],
      "metadata": {
        "id": "sHE3QnUJ3I9B"
      },
      "execution_count": null,
      "outputs": []
    },
    {
      "cell_type": "code",
      "source": [],
      "metadata": {
        "id": "FBW5qzm93N1h"
      },
      "execution_count": null,
      "outputs": []
    },
    {
      "cell_type": "markdown",
      "source": [
        "##Question 4\n",
        "####What is the cardinality of the columns?"
      ],
      "metadata": {
        "id": "_vT2mNEXWS9n"
      }
    },
    {
      "cell_type": "code",
      "source": [
        "#Solution 4(your code here)\n"
      ],
      "metadata": {
        "id": "qGt2z5gLWtgr"
      },
      "execution_count": null,
      "outputs": []
    },
    {
      "cell_type": "code",
      "source": [],
      "metadata": {
        "id": "yTqffBfo_qv7"
      },
      "execution_count": null,
      "outputs": []
    },
    {
      "cell_type": "markdown",
      "source": [
        "##Question 5\n",
        "####Give 2 inferences from the .describe() of the dataset."
      ],
      "metadata": {
        "id": "JOsMt4lFWuye"
      }
    },
    {
      "cell_type": "code",
      "source": [
        "#Solution 5(your code here)"
      ],
      "metadata": {
        "id": "Nmi_L7QjXEA-"
      },
      "execution_count": null,
      "outputs": []
    },
    {
      "cell_type": "markdown",
      "source": [
        "## Question 6\n",
        "\n",
        "#### Handle the missing values in the columns"
      ],
      "metadata": {
        "id": "02CWJJox75SZ"
      }
    },
    {
      "cell_type": "code",
      "source": [
        "#Solution 6(your code here)\n"
      ],
      "metadata": {
        "id": "HrWz23TB7-QF"
      },
      "execution_count": null,
      "outputs": []
    },
    {
      "cell_type": "markdown",
      "source": [
        "## Question 7\n",
        "\n",
        "#### Convert the datatypes for **accepted** and **submissions** columns"
      ],
      "metadata": {
        "id": "K0CIu0N78IZB"
      }
    },
    {
      "cell_type": "code",
      "source": [
        "#Solution 7(your code here)\n"
      ],
      "metadata": {
        "id": "ZJDBwyZH8HRr"
      },
      "execution_count": null,
      "outputs": []
    },
    {
      "cell_type": "markdown",
      "source": [
        "## Question 8\n",
        "\n",
        "#### Find if duplicates exist based on **id** and **title**"
      ],
      "metadata": {
        "id": "bV89Nu499sb_"
      }
    },
    {
      "cell_type": "code",
      "source": [
        "#Solution 8(your code here)\n"
      ],
      "metadata": {
        "id": "MkbWwI5r9x4K"
      },
      "execution_count": null,
      "outputs": []
    },
    {
      "cell_type": "markdown",
      "source": [
        "##Question 9\n",
        "#### Plot the outliers in the dataset."
      ],
      "metadata": {
        "id": "T6kMonATZW4F"
      }
    },
    {
      "cell_type": "code",
      "source": [
        "#Solution 9(your code here)\n",
        "# (Hint: select only numbers using .select_dtypes() and .plot as a 'box' plot with 45deg rotation)"
      ],
      "metadata": {
        "id": "3h_BJszyZXK3"
      },
      "execution_count": null,
      "outputs": []
    },
    {
      "cell_type": "markdown",
      "source": [
        "## Question 10\n",
        "\n",
        "#### Identify and plot the outliers for the numeric columns"
      ],
      "metadata": {
        "id": "1DVgDU_SFulc"
      }
    },
    {
      "cell_type": "code",
      "source": [
        "#Solution 10(your code here)\n"
      ],
      "metadata": {
        "id": "QLNgXNVpiSU_"
      },
      "execution_count": null,
      "outputs": []
    },
    {
      "cell_type": "markdown",
      "source": [
        "## Question 11\n",
        "\n",
        "#### Handle the outliers"
      ],
      "metadata": {
        "id": "Esf7wCGhF8nD"
      }
    },
    {
      "cell_type": "code",
      "source": [
        "#Solution 11(your code here)\n"
      ],
      "metadata": {
        "id": "_zrfSCrrtPfg"
      },
      "execution_count": null,
      "outputs": []
    },
    {
      "cell_type": "markdown",
      "source": [
        "##Question 12\n",
        "\n",
        "####Plot top 20 companies whose problems are listed in this dataset."
      ],
      "metadata": {
        "id": "ZrXsAa5_YSTk"
      }
    },
    {
      "cell_type": "code",
      "source": [
        "#Solution 12(your code here)\n"
      ],
      "metadata": {
        "id": "irSkjnXgYsiT"
      },
      "execution_count": null,
      "outputs": []
    },
    {
      "cell_type": "markdown",
      "source": [
        "## Question 13\n",
        "#### Plot Distribution of difficulty"
      ],
      "metadata": {
        "id": "7CpEhkQSwUqa"
      }
    },
    {
      "cell_type": "code",
      "source": [
        "#Solution 13(your code here)\n"
      ],
      "metadata": {
        "id": "BB6UlGQyBN0K"
      },
      "execution_count": null,
      "outputs": []
    },
    {
      "cell_type": "markdown",
      "source": [
        "## Question 14\n",
        "\n",
        "#### Plot the distribution of acceptance_rate"
      ],
      "metadata": {
        "id": "hVcsr_ODHEU3"
      }
    },
    {
      "cell_type": "code",
      "source": [
        "#Solution 14(your code here)\n"
      ],
      "metadata": {
        "id": "n9HGPsXawabp"
      },
      "execution_count": null,
      "outputs": []
    },
    {
      "cell_type": "markdown",
      "source": [
        "## Question 15\n",
        "\n",
        "#### Plot the distribution of frequency"
      ],
      "metadata": {
        "id": "SdqJ4l_bHTJF"
      }
    },
    {
      "cell_type": "code",
      "source": [
        "#Solution 15(your code here)\n"
      ],
      "metadata": {
        "id": "aBFJ4NVMwtp3"
      },
      "execution_count": null,
      "outputs": []
    },
    {
      "cell_type": "markdown",
      "source": [
        "## Question 16\n",
        "\n",
        "#### Plot the Scatter plot of likes vs dislikes"
      ],
      "metadata": {
        "id": "aB4iQsiDH1Qm"
      }
    },
    {
      "cell_type": "code",
      "source": [
        "#Solution 16(your code here)\n"
      ],
      "metadata": {
        "id": "JNzPEat0w2Ol"
      },
      "execution_count": null,
      "outputs": []
    },
    {
      "cell_type": "markdown",
      "source": [
        "## Question 17\n",
        "\n",
        "#### Plot the Scatter plot of accepted vs submissions"
      ],
      "metadata": {
        "id": "1_pSZYJ9IKR8"
      }
    },
    {
      "cell_type": "code",
      "source": [
        "#Solution 17(your code here)\n"
      ],
      "metadata": {
        "id": "pjifKs7TxB5r"
      },
      "execution_count": null,
      "outputs": []
    },
    {
      "cell_type": "markdown",
      "source": [
        "## Question 18\n",
        "\n",
        "#### Plot the Bar plot for average acceptance_rate by difficulty"
      ],
      "metadata": {
        "id": "ga0MA0hmJMbw"
      }
    },
    {
      "cell_type": "code",
      "source": [
        "#Solution 18(your code here)\n"
      ],
      "metadata": {
        "id": "jKVvpj5Qy1C8"
      },
      "execution_count": null,
      "outputs": []
    },
    {
      "cell_type": "markdown",
      "source": [
        "## Question 19\n",
        "\n",
        "Plot scatter plot of acceptance_rate vs frequency"
      ],
      "metadata": {
        "id": "-xMrC8lKJPoE"
      }
    },
    {
      "source": [
        "#Solution 19(your code here)\n"
      ],
      "cell_type": "code",
      "execution_count": null,
      "outputs": [],
      "metadata": {
        "id": "3jjU22eZk7pq"
      }
    }
  ]
}