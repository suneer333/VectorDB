{
 "cells": [
  {
   "cell_type": "markdown",
   "id": "cd7fa71e-b537-4905-a9aa-7dfd9d6b6dba",
   "metadata": {},
   "source": [
    "## VectorDB - Pinecone"
   ]
  },
  {
   "cell_type": "markdown",
   "id": "40e0e967-4b5f-4986-af55-4e5d85060ce6",
   "metadata": {},
   "source": [
    "### Install pinecone-client"
   ]
  },
  {
   "cell_type": "code",
   "execution_count": 2,
   "id": "1bd1aff0-7ec1-48bc-922d-3eb59dc25675",
   "metadata": {},
   "outputs": [
    {
     "name": "stdout",
     "output_type": "stream",
     "text": [
      "Requirement already satisfied: pinecone-client in /Users/suneermehmood/miniconda3/lib/python3.11/site-packages (3.0.2)\n",
      "Requirement already satisfied: certifi>=2019.11.17 in /Users/suneermehmood/miniconda3/lib/python3.11/site-packages (from pinecone-client) (2023.11.17)\n",
      "Requirement already satisfied: tqdm>=4.64.1 in /Users/suneermehmood/miniconda3/lib/python3.11/site-packages (from pinecone-client) (4.65.0)\n",
      "Requirement already satisfied: typing-extensions>=3.7.4 in /Users/suneermehmood/.local/lib/python3.11/site-packages (from pinecone-client) (4.9.0)\n",
      "Requirement already satisfied: urllib3>=1.26.0 in /Users/suneermehmood/miniconda3/lib/python3.11/site-packages (from pinecone-client) (1.26.18)\n"
     ]
    }
   ],
   "source": [
    "!pip install pinecone-client"
   ]
  },
  {
   "cell_type": "code",
   "execution_count": null,
   "id": "cab5afb6-29e4-4dfb-af38-2b6f9f64aa53",
   "metadata": {},
   "outputs": [],
   "source": [
    "# The code below is outdated\n",
    "\n",
    "# pinecone.init(api_key = '994b7465-33ab-4dd2-9c89-f0a071d06f55', environment = 'gcp-starter')"
   ]
  },
  {
   "cell_type": "code",
   "execution_count": 3,
   "id": "fa1ce0e7-e0ec-4837-8cbf-376117674aa8",
   "metadata": {},
   "outputs": [],
   "source": [
    "import pinecone\n",
    "import os\n",
    "from pinecone import Pinecone, ServerlessSpec, PodSpec"
   ]
  },
  {
   "cell_type": "code",
   "execution_count": 28,
   "id": "dd061481-808c-4456-8a2a-225279d1e14f",
   "metadata": {},
   "outputs": [],
   "source": [
    "pc = Pinecone(\n",
    "        api_key='994b7465-33ab-4dd2-9c89-f0a071d06f55'\n",
    "    )"
   ]
  },
  {
   "cell_type": "markdown",
   "id": "2e33f55b-5af6-468c-a445-1e25ef11e193",
   "metadata": {},
   "source": [
    "### Create index programmatically\n",
    "\n",
    "An index in PineCone is similar to a Database holding collections"
   ]
  },
  {
   "cell_type": "code",
   "execution_count": 37,
   "id": "e4baf3ef-9557-4bd3-ae86-5d9f1eede6f9",
   "metadata": {},
   "outputs": [],
   "source": [
    "# Hold shift-tab to look at the parameter options\n",
    "# Only one index can be created as per the free tier.\n",
    "\n",
    "pc.create_index(\n",
    "    name = 'insert',\n",
    "    dimension = 3, \n",
    "    spec = PodSpec(\n",
    "        environment='gcp-starter'), \n",
    "    metric = 'cosine')"
   ]
  },
  {
   "cell_type": "code",
   "execution_count": 38,
   "id": "92402a27-bff4-4d7f-bd0e-beb3c7fa2930",
   "metadata": {},
   "outputs": [
    {
     "data": {
      "text/plain": [
       "{'indexes': [{'dimension': 3,\n",
       "              'host': 'insert-rtg0gpg.svc.gcp-starter.pinecone.io',\n",
       "              'metric': 'cosine',\n",
       "              'name': 'insert',\n",
       "              'spec': {'pod': {'environment': 'gcp-starter',\n",
       "                               'pod_type': 'starter',\n",
       "                               'pods': 1,\n",
       "                               'replicas': 1,\n",
       "                               'shards': 1}},\n",
       "              'status': {'ready': True, 'state': 'Ready'}}]}"
      ]
     },
     "execution_count": 38,
     "metadata": {},
     "output_type": "execute_result"
    }
   ],
   "source": [
    "pc.list_indexes()"
   ]
  },
  {
   "cell_type": "markdown",
   "id": "3a885bd9-69cb-4890-9e41-c1e7ddeb5148",
   "metadata": {},
   "source": [
    "### Create vectors and vector ids"
   ]
  },
  {
   "cell_type": "code",
   "execution_count": 39,
   "id": "5373445e-8e15-4df1-a384-d49e1ef5699f",
   "metadata": {},
   "outputs": [],
   "source": [
    "vectors = [[1.0,3.0,4.0],[5.0,6.0,7.0],[8.0,9.0,0.0]]\n",
    "\n",
    "vect_ids = ['vec1','vec2','vec3']"
   ]
  },
  {
   "cell_type": "markdown",
   "id": "7142ce06-7b5d-44de-aa3f-70106630080c",
   "metadata": {},
   "source": [
    "### Create a pointer to your index\n",
    "\n",
    "Index is similar to a database in a relational / NoSQL concept"
   ]
  },
  {
   "cell_type": "code",
   "execution_count": 51,
   "id": "e7723a55-4719-47a7-b598-02cd8475931b",
   "metadata": {},
   "outputs": [],
   "source": [
    "index = pc.Index('insert')"
   ]
  },
  {
   "cell_type": "markdown",
   "id": "a290feae-23b9-4c1c-a2fd-1e6c2628bb1d",
   "metadata": {},
   "source": [
    "### Insert / Upsert vectors\n",
    "Please note that int values are not supported [1,3,4], \n",
    "but float values are [1.0.3.0.4.0]"
   ]
  },
  {
   "cell_type": "code",
   "execution_count": 59,
   "id": "7f2ee1bc-010e-439f-ab96-56f2579a093b",
   "metadata": {},
   "outputs": [
    {
     "data": {
      "text/plain": [
       "{'upserted_count': 3}"
      ]
     },
     "execution_count": 59,
     "metadata": {},
     "output_type": "execute_result"
    }
   ],
   "source": [
    "index.upsert(vectors = [\n",
    "    {'id':'vec1', 'values':[1.0, 3.0, 4.0]},\n",
    "    {'id':'vec2', 'values':[5.0, 6.0, 7.0]},\n",
    "    {'id':'vec3', 'values':[8.0, 9.0, 0.0]}\n",
    "]) # list of dictionaries\n",
    "\n",
    "\n",
    "# Alternate option below, as list of tuples\n",
    "\n",
    "'''\n",
    "index.upsert(vectors = [\n",
    "    ('vec1', [1.0, 3.0, 4.0]),\n",
    "    ('vec2', [5.0, 6.0, 7.0]),\n",
    "    ('vec3', [8.0, 9.0, 0.0])\n",
    "]) # list of tuples\n",
    "'''"
   ]
  },
  {
   "cell_type": "markdown",
   "id": "7e9d9f6e-3630-4a11-b1ed-07fe719f36b7",
   "metadata": {},
   "source": [
    "### Update (not Upsert) Vectors"
   ]
  },
  {
   "cell_type": "code",
   "execution_count": 60,
   "id": "0c3d0e58-6a2d-4ef4-9192-3aeb4b1a9674",
   "metadata": {},
   "outputs": [],
   "source": [
    "from tqdm.autonotebook import tqdm #suppress the warning"
   ]
  },
  {
   "cell_type": "code",
   "execution_count": 61,
   "id": "510c5bde-1160-40fb-b578-38febc260e27",
   "metadata": {},
   "outputs": [
    {
     "data": {
      "text/plain": [
       "{'indexes': [{'dimension': 3,\n",
       "              'host': 'insert-rtg0gpg.svc.gcp-starter.pinecone.io',\n",
       "              'metric': 'cosine',\n",
       "              'name': 'insert',\n",
       "              'spec': {'pod': {'environment': 'gcp-starter',\n",
       "                               'pod_type': 'starter',\n",
       "                               'pods': 1,\n",
       "                               'replicas': 1,\n",
       "                               'shards': 1}},\n",
       "              'status': {'ready': True, 'state': 'Ready'}}]}"
      ]
     },
     "execution_count": 61,
     "metadata": {},
     "output_type": "execute_result"
    }
   ],
   "source": [
    "pc.list_indexes()"
   ]
  },
  {
   "cell_type": "code",
   "execution_count": 62,
   "id": "1fa0d9b1-8fb9-42fd-813b-d1bc3705e8a7",
   "metadata": {},
   "outputs": [
    {
     "data": {
      "text/plain": [
       "{'upserted_count': 5}"
      ]
     },
     "execution_count": 62,
     "metadata": {},
     "output_type": "execute_result"
    }
   ],
   "source": [
    "index.upsert(vectors = [\n",
    "    ('A',[0.1,0.1,0.1]),\n",
    "    ('B',[0.2,0.2,0.2]),\n",
    "    ('C',[0.3,0.3,0.3]),\n",
    "    ('D',[0.4,0.4,0.4]),\n",
    "    ('E',[0.5,0.5,0.5])\n",
    "])"
   ]
  },
  {
   "cell_type": "markdown",
   "id": "52b51dc2-8ab0-4f9c-965f-476eb5a40a23",
   "metadata": {},
   "source": [
    "#### Update a specific vector\n",
    "\n",
    "The function will not provide any reponse per se."
   ]
  },
  {
   "cell_type": "code",
   "execution_count": 63,
   "id": "fe941023-49dc-4662-9d8c-a96d9bbd0454",
   "metadata": {},
   "outputs": [
    {
     "data": {
      "text/plain": [
       "{}"
      ]
     },
     "execution_count": 63,
     "metadata": {},
     "output_type": "execute_result"
    }
   ],
   "source": [
    "index.update(id = 'E', values = [0.55,0.55,0.55])"
   ]
  },
  {
   "cell_type": "markdown",
   "id": "e543cbae-4fed-4ed5-9bcb-cfcdad26892a",
   "metadata": {},
   "source": [
    "### Query Vector data"
   ]
  },
  {
   "cell_type": "code",
   "execution_count": 77,
   "id": "315d5ea9-c8a9-41e8-9ebe-815ac52a1857",
   "metadata": {},
   "outputs": [
    {
     "data": {
      "text/plain": [
       "{'matches': [{'id': 'C', 'score': 0.0, 'values': [0.3, 0.3, 0.3]},\n",
       "             {'id': 'B', 'score': 0.0, 'values': [0.2, 0.2, 0.2]},\n",
       "             {'id': 'D', 'score': 0.0, 'values': [0.4, 0.4, 0.4]},\n",
       "             {'id': 'A', 'score': 0.0, 'values': [0.1, 0.1, 0.1]}],\n",
       " 'namespace': '',\n",
       " 'usage': {'read_units': 6}}"
      ]
     },
     "execution_count": 77,
     "metadata": {},
     "output_type": "execute_result"
    }
   ],
   "source": [
    "#index.query(vector=[0,0,0], top_k=4)\n",
    "\n",
    "#The same query can be passed with include_values = True\n",
    "\n",
    "index.query(vector=[0,0,0], top_k=4, include_values = True)\n"
   ]
  },
  {
   "cell_type": "markdown",
   "id": "5ea306f6-5235-461b-89bc-9a9255ef5ffd",
   "metadata": {},
   "source": [
    "### Query Vector by Id"
   ]
  },
  {
   "cell_type": "code",
   "execution_count": 81,
   "id": "5fe1366b-4d4b-4478-b026-c10cb998b8b0",
   "metadata": {},
   "outputs": [
    {
     "data": {
      "text/plain": [
       "{'namespace': '',\n",
       " 'usage': {'read_units': 1},\n",
       " 'vectors': {'A': {'id': 'A', 'values': [0.1, 0.1, 0.1]},\n",
       "             'E': {'id': 'E', 'values': [0.55, 0.55, 0.55]},\n",
       "             'vec1': {'id': 'vec1', 'values': [1.0, 3.0, 4.0]},\n",
       "             'vec2': {'id': 'vec2', 'values': [5.0, 6.0, 7.0]}}}"
      ]
     },
     "execution_count": 81,
     "metadata": {},
     "output_type": "execute_result"
    }
   ],
   "source": [
    "index.fetch(ids = ['vec1','vec2','A','E'])"
   ]
  },
  {
   "cell_type": "markdown",
   "id": "898df915-cd8a-48b7-b19f-a794aefe7c92",
   "metadata": {},
   "source": [
    "### Delete vectors"
   ]
  },
  {
   "cell_type": "code",
   "execution_count": 82,
   "id": "29a69031-fb82-4772-902d-80979666a59b",
   "metadata": {},
   "outputs": [
    {
     "data": {
      "text/plain": [
       "{'indexes': [{'dimension': 3,\n",
       "              'host': 'insert-rtg0gpg.svc.gcp-starter.pinecone.io',\n",
       "              'metric': 'cosine',\n",
       "              'name': 'insert',\n",
       "              'spec': {'pod': {'environment': 'gcp-starter',\n",
       "                               'pod_type': 'starter',\n",
       "                               'pods': 1,\n",
       "                               'replicas': 1,\n",
       "                               'shards': 1}},\n",
       "              'status': {'ready': True, 'state': 'Ready'}}]}"
      ]
     },
     "execution_count": 82,
     "metadata": {},
     "output_type": "execute_result"
    }
   ],
   "source": [
    "pc.list_indexes()"
   ]
  },
  {
   "cell_type": "code",
   "execution_count": 84,
   "id": "ddf1a212-9435-448d-ac66-d4b2a90584cb",
   "metadata": {},
   "outputs": [
    {
     "data": {
      "text/plain": [
       "{}"
      ]
     },
     "execution_count": 84,
     "metadata": {},
     "output_type": "execute_result"
    }
   ],
   "source": [
    "# The output of the cell will be empty curly \n",
    "# But deletes the given vector_id provided in the list\n",
    "\n",
    "index.delete(ids = ['vec2'])\n",
    "\n",
    "# To delete all vectors:\n",
    "'''\n",
    "index.delete(delete_all = True)\n",
    "'''"
   ]
  },
  {
   "cell_type": "code",
   "execution_count": null,
   "id": "102fb76e-c7f3-408a-a2ca-c17246aa3517",
   "metadata": {},
   "outputs": [],
   "source": []
  }
 ],
 "metadata": {
  "kernelspec": {
   "display_name": "Python 3 (ipykernel)",
   "language": "python",
   "name": "python3"
  },
  "language_info": {
   "codemirror_mode": {
    "name": "ipython",
    "version": 3
   },
   "file_extension": ".py",
   "mimetype": "text/x-python",
   "name": "python",
   "nbconvert_exporter": "python",
   "pygments_lexer": "ipython3",
   "version": "3.11.5"
  }
 },
 "nbformat": 4,
 "nbformat_minor": 5
}
