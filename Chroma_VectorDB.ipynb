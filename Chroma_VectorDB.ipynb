{
 "cells": [
  {
   "cell_type": "markdown",
   "id": "c986e7f7-4fda-484c-8dab-62ac6a8ee276",
   "metadata": {},
   "source": [
    "### Set up envs and libaries for ChromaDB"
   ]
  },
  {
   "cell_type": "code",
   "execution_count": 1,
   "id": "6d88ca66-332e-4a77-b838-3e5b00368d76",
   "metadata": {},
   "outputs": [
    {
     "name": "stdout",
     "output_type": "stream",
     "text": [
      "/Users/suneermehmood/miniconda3/bin/python\n"
     ]
    }
   ],
   "source": [
    "# Check the Jupyter Environment\n",
    "\n",
    "import sys\n",
    "print(sys.executable)\n",
    "\n",
    "# Remember to restart Jupyter lab using \n",
    "# conda activate base\n",
    "# if the env being used is conda"
   ]
  },
  {
   "cell_type": "code",
   "execution_count": 2,
   "id": "fe41f030-1bc3-4a2b-9642-6f5c58a540da",
   "metadata": {},
   "outputs": [],
   "source": [
    "# run the below to insall chromadb if not already installed\n",
    "# !pip install chromadb --user\n",
    "\n",
    "import chromadb"
   ]
  },
  {
   "cell_type": "code",
   "execution_count": 3,
   "id": "732c063d-1d2c-4323-89df-604d67cf2d23",
   "metadata": {},
   "outputs": [
    {
     "name": "stderr",
     "output_type": "stream",
     "text": [
      "/var/folders/2x/2pbx1jfx0rq8cdf4br5m8ngr0000gn/T/ipykernel_56566/4080736814.py:1: DeprecationWarning: \n",
      "Pyarrow will become a required dependency of pandas in the next major release of pandas (pandas 3.0),\n",
      "(to allow more performant data types, such as the Arrow string type, and better interoperability with other libraries)\n",
      "but was not found to be installed on your system.\n",
      "If this would cause problems for you,\n",
      "please provide us feedback at https://github.com/pandas-dev/pandas/issues/54466\n",
      "        \n",
      "  import pandas as pd\n"
     ]
    }
   ],
   "source": [
    "import pandas as pd"
   ]
  },
  {
   "cell_type": "code",
   "execution_count": 4,
   "id": "fc831bb8-2a5d-4c92-be9a-0ac924b73f43",
   "metadata": {},
   "outputs": [],
   "source": [
    "# Set the below option if you would like to see the entire field length\n",
    "\n",
    "pd.set_option('display.max_colwidth', None)"
   ]
  },
  {
   "cell_type": "markdown",
   "id": "a8f1e277-043a-4631-8f03-e6923374e823",
   "metadata": {},
   "source": [
    "## Introduction to Kaggle DataSets\n",
    "\n",
    "https://www.kaggle.com/datasets/nulldata/medium-post-titles"
   ]
  },
  {
   "cell_type": "markdown",
   "id": "419e0c50-985f-48b1-b015-807e134fb325",
   "metadata": {},
   "source": [
    "### Read data from file"
   ]
  },
  {
   "cell_type": "code",
   "execution_count": 5,
   "id": "49c097ad-3b01-46cd-bd2c-d26d36c8fc52",
   "metadata": {},
   "outputs": [],
   "source": [
    "# Read the sample data from Kaggle into a DF\n",
    "df = pd.read_csv('medium_post_titles.csv')"
   ]
  },
  {
   "cell_type": "code",
   "execution_count": 6,
   "id": "b4155555-1818-475a-8beb-0bb639247312",
   "metadata": {},
   "outputs": [
    {
     "data": {
      "text/html": [
       "<div>\n",
       "<style scoped>\n",
       "    .dataframe tbody tr th:only-of-type {\n",
       "        vertical-align: middle;\n",
       "    }\n",
       "\n",
       "    .dataframe tbody tr th {\n",
       "        vertical-align: top;\n",
       "    }\n",
       "\n",
       "    .dataframe thead th {\n",
       "        text-align: right;\n",
       "    }\n",
       "</style>\n",
       "<table border=\"1\" class=\"dataframe\">\n",
       "  <thead>\n",
       "    <tr style=\"text-align: right;\">\n",
       "      <th></th>\n",
       "      <th>category</th>\n",
       "      <th>title</th>\n",
       "      <th>subtitle</th>\n",
       "      <th>subtitle_truncated_flag</th>\n",
       "    </tr>\n",
       "  </thead>\n",
       "  <tbody>\n",
       "    <tr>\n",
       "      <th>0</th>\n",
       "      <td>work</td>\n",
       "      <td>\"21 Conversations\" - A fun (and easy) game for teams to get to know each other</td>\n",
       "      <td>A (new?) Icebreaker game to get your team to say all the interesting stuff</td>\n",
       "      <td>False</td>\n",
       "    </tr>\n",
       "    <tr>\n",
       "      <th>1</th>\n",
       "      <td>spirituality</td>\n",
       "      <td>\"Biblical Porn\" at Mars Hill</td>\n",
       "      <td>Author and UW lecturer Jessica Johnson talks about her new book on Mars Hill Church's and Mark Driscoll's evangelical masculinity</td>\n",
       "      <td>False</td>\n",
       "    </tr>\n",
       "    <tr>\n",
       "      <th>2</th>\n",
       "      <td>lgbtqia</td>\n",
       "      <td>\"CISGENDER?! Is That A Disease?!\"</td>\n",
       "      <td>Or, a primer in gender vocabulary for the curious-minded</td>\n",
       "      <td>False</td>\n",
       "    </tr>\n",
       "    <tr>\n",
       "      <th>3</th>\n",
       "      <td>equality</td>\n",
       "      <td>\"Call me Nat Love\" :Black Cowboys and the Frontiers of American Freedom</td>\n",
       "      <td>NaN</td>\n",
       "      <td>False</td>\n",
       "    </tr>\n",
       "    <tr>\n",
       "      <th>4</th>\n",
       "      <td>artificial-intelligence</td>\n",
       "      <td>\"Can I Train my Model on Your Computer?\"</td>\n",
       "      <td>How we waste computational resources and how to stop it.</td>\n",
       "      <td>False</td>\n",
       "    </tr>\n",
       "    <tr>\n",
       "      <th>...</th>\n",
       "      <td>...</td>\n",
       "      <td>...</td>\n",
       "      <td>...</td>\n",
       "      <td>...</td>\n",
       "    </tr>\n",
       "    <tr>\n",
       "      <th>126413</th>\n",
       "      <td>javascript</td>\n",
       "      <td>🚀 Introducing Akita: A New State Management Pattern for Angular Applications</td>\n",
       "      <td>Every developer knows state management is difficult. Continuously keeping track of what has been updated, why, and when, can become a</td>\n",
       "      <td>True</td>\n",
       "    </tr>\n",
       "    <tr>\n",
       "      <th>126414</th>\n",
       "      <td>cryptocurrency</td>\n",
       "      <td>🚀Sudden Bitcoin Price Breakout Sets New Bull Target at Over $5K</td>\n",
       "      <td>Short-term trend: Bullish (but overbought)</td>\n",
       "      <td>False</td>\n",
       "    </tr>\n",
       "    <tr>\n",
       "      <th>126415</th>\n",
       "      <td>artificial-intelligence</td>\n",
       "      <td>🤖 Hack4th0n &amp; RASA chatbot</td>\n",
       "      <td>Past week I took part in an internal Hackathon with our team. We made a chatbot assistant, that will help you solve your everyday tasks. I</td>\n",
       "      <td>True</td>\n",
       "    </tr>\n",
       "    <tr>\n",
       "      <th>126416</th>\n",
       "      <td>artificial-intelligence</td>\n",
       "      <td>🤖AI Diary #4</td>\n",
       "      <td>Topics in this issue include deep learning applied to radiology, language GANs falling short, integrating reasoning into AI models</td>\n",
       "      <td>True</td>\n",
       "    </tr>\n",
       "    <tr>\n",
       "      <th>126417</th>\n",
       "      <td>history</td>\n",
       "      <td>🦉 10x curiosity — Issue #68 — The checklist revolution</td>\n",
       "      <td>NaN</td>\n",
       "      <td>False</td>\n",
       "    </tr>\n",
       "  </tbody>\n",
       "</table>\n",
       "<p>126418 rows × 4 columns</p>\n",
       "</div>"
      ],
      "text/plain": [
       "                       category  \\\n",
       "0                          work   \n",
       "1                  spirituality   \n",
       "2                       lgbtqia   \n",
       "3                      equality   \n",
       "4       artificial-intelligence   \n",
       "...                         ...   \n",
       "126413               javascript   \n",
       "126414           cryptocurrency   \n",
       "126415  artificial-intelligence   \n",
       "126416  artificial-intelligence   \n",
       "126417                  history   \n",
       "\n",
       "                                                                                 title  \\\n",
       "0       \"21 Conversations\" - A fun (and easy) game for teams to get to know each other   \n",
       "1                                                         \"Biblical Porn\" at Mars Hill   \n",
       "2                                                    \"CISGENDER?! Is That A Disease?!\"   \n",
       "3              \"Call me Nat Love\" :Black Cowboys and the Frontiers of American Freedom   \n",
       "4                                             \"Can I Train my Model on Your Computer?\"   \n",
       "...                                                                                ...   \n",
       "126413    🚀 Introducing Akita: A New State Management Pattern for Angular Applications   \n",
       "126414                 🚀Sudden Bitcoin Price Breakout Sets New Bull Target at Over $5K   \n",
       "126415                                                      🤖 Hack4th0n & RASA chatbot   \n",
       "126416                                                                    🤖AI Diary #4   \n",
       "126417                          🦉 10x curiosity — Issue #68 — The checklist revolution   \n",
       "\n",
       "                                                                                                                                          subtitle  \\\n",
       "0                                                                       A (new?) Icebreaker game to get your team to say all the interesting stuff   \n",
       "1                Author and UW lecturer Jessica Johnson talks about her new book on Mars Hill Church's and Mark Driscoll's evangelical masculinity   \n",
       "2                                                                                         Or, a primer in gender vocabulary for the curious-minded   \n",
       "3                                                                                                                                              NaN   \n",
       "4                                                                                         How we waste computational resources and how to stop it.   \n",
       "...                                                                                                                                            ...   \n",
       "126413       Every developer knows state management is difficult. Continuously keeping track of what has been updated, why, and when, can become a   \n",
       "126414                                                                                                  Short-term trend: Bullish (but overbought)   \n",
       "126415  Past week I took part in an internal Hackathon with our team. We made a chatbot assistant, that will help you solve your everyday tasks. I   \n",
       "126416          Topics in this issue include deep learning applied to radiology, language GANs falling short, integrating reasoning into AI models   \n",
       "126417                                                                                                                                         NaN   \n",
       "\n",
       "        subtitle_truncated_flag  \n",
       "0                         False  \n",
       "1                         False  \n",
       "2                         False  \n",
       "3                         False  \n",
       "4                         False  \n",
       "...                         ...  \n",
       "126413                     True  \n",
       "126414                    False  \n",
       "126415                     True  \n",
       "126416                     True  \n",
       "126417                    False  \n",
       "\n",
       "[126418 rows x 4 columns]"
      ]
     },
     "execution_count": 6,
     "metadata": {},
     "output_type": "execute_result"
    }
   ],
   "source": [
    "df"
   ]
  },
  {
   "cell_type": "markdown",
   "id": "0992fb09-025a-4794-82de-e2b08809953a",
   "metadata": {},
   "source": [
    "### Perform TX"
   ]
  },
  {
   "cell_type": "code",
   "execution_count": 7,
   "id": "5f8f2d43-c742-4a4a-80d3-113f28f90498",
   "metadata": {
    "scrolled": true
   },
   "outputs": [],
   "source": [
    "# Dropping null values\n",
    "df = df.dropna()\n",
    "\n",
    "# Dropping subtitle_truncated_flag \n",
    "df = df[-df['subtitle_truncated_flag']]\n",
    "\n",
    "\n",
    "# Filter only the required topics_of_interest\n",
    "topics_of_interest = ['artificial-intelligence','data-science','machine-learning']\n",
    "df[df['category'].isin(topics_of_interest)]\n",
    "\n",
    "\n",
    "# Combine two fields to 'text' column\n",
    "df['text'] = df['title'] + df['subtitle']\n",
    "\n",
    "\n",
    "# Create a dictionary column - Meta\n",
    "df['meta'] = df.apply(lambda x: {\n",
    "    'text': x['text'],\n",
    "    'category': x['category']\n",
    "}, axis = 1)\n"
   ]
  },
  {
   "cell_type": "code",
   "execution_count": 8,
   "id": "fa68418c-66e4-401b-9705-c86bc631f107",
   "metadata": {},
   "outputs": [
    {
     "data": {
      "text/html": [
       "<div>\n",
       "<style scoped>\n",
       "    .dataframe tbody tr th:only-of-type {\n",
       "        vertical-align: middle;\n",
       "    }\n",
       "\n",
       "    .dataframe tbody tr th {\n",
       "        vertical-align: top;\n",
       "    }\n",
       "\n",
       "    .dataframe thead th {\n",
       "        text-align: right;\n",
       "    }\n",
       "</style>\n",
       "<table border=\"1\" class=\"dataframe\">\n",
       "  <thead>\n",
       "    <tr style=\"text-align: right;\">\n",
       "      <th></th>\n",
       "      <th>category</th>\n",
       "      <th>title</th>\n",
       "      <th>subtitle</th>\n",
       "      <th>subtitle_truncated_flag</th>\n",
       "      <th>text</th>\n",
       "      <th>meta</th>\n",
       "    </tr>\n",
       "  </thead>\n",
       "  <tbody>\n",
       "    <tr>\n",
       "      <th>0</th>\n",
       "      <td>work</td>\n",
       "      <td>\"21 Conversations\" - A fun (and easy) game for teams to get to know each other</td>\n",
       "      <td>A (new?) Icebreaker game to get your team to say all the interesting stuff</td>\n",
       "      <td>False</td>\n",
       "      <td>\"21 Conversations\" - A fun (and easy) game for teams to get to know each otherA (new?) Icebreaker game to get your team to say all the interesting stuff</td>\n",
       "      <td>{'text': '\"21 Conversations\" - A fun (and easy) game for teams to get to know each otherA (new?) Icebreaker game to get your team to say all the interesting stuff', 'category': 'work'}</td>\n",
       "    </tr>\n",
       "    <tr>\n",
       "      <th>1</th>\n",
       "      <td>spirituality</td>\n",
       "      <td>\"Biblical Porn\" at Mars Hill</td>\n",
       "      <td>Author and UW lecturer Jessica Johnson talks about her new book on Mars Hill Church's and Mark Driscoll's evangelical masculinity</td>\n",
       "      <td>False</td>\n",
       "      <td>\"Biblical Porn\" at Mars HillAuthor and UW lecturer Jessica Johnson talks about her new book on Mars Hill Church's and Mark Driscoll's evangelical masculinity</td>\n",
       "      <td>{'text': '\"Biblical Porn\" at Mars HillAuthor and UW lecturer Jessica Johnson talks about her new book on Mars Hill Church's and Mark Driscoll's evangelical masculinity', 'category': 'spirituality'}</td>\n",
       "    </tr>\n",
       "    <tr>\n",
       "      <th>2</th>\n",
       "      <td>lgbtqia</td>\n",
       "      <td>\"CISGENDER?! Is That A Disease?!\"</td>\n",
       "      <td>Or, a primer in gender vocabulary for the curious-minded</td>\n",
       "      <td>False</td>\n",
       "      <td>\"CISGENDER?! Is That A Disease?!\"Or, a primer in gender vocabulary for the curious-minded</td>\n",
       "      <td>{'text': '\"CISGENDER?! Is That A Disease?!\"Or, a primer in gender vocabulary for the curious-minded', 'category': 'lgbtqia'}</td>\n",
       "    </tr>\n",
       "    <tr>\n",
       "      <th>4</th>\n",
       "      <td>artificial-intelligence</td>\n",
       "      <td>\"Can I Train my Model on Your Computer?\"</td>\n",
       "      <td>How we waste computational resources and how to stop it.</td>\n",
       "      <td>False</td>\n",
       "      <td>\"Can I Train my Model on Your Computer?\"How we waste computational resources and how to stop it.</td>\n",
       "      <td>{'text': '\"Can I Train my Model on Your Computer?\"How we waste computational resources and how to stop it.', 'category': 'artificial-intelligence'}</td>\n",
       "    </tr>\n",
       "    <tr>\n",
       "      <th>5</th>\n",
       "      <td>cryptocurrency</td>\n",
       "      <td>\"Cypherpunks and Wall Street\": The Security Token Revolution &amp; Regulation</td>\n",
       "      <td>Bruce Fenton presents at the World Blockchain Forum - and will cryptocurrency bring us to utopia or dystopia?</td>\n",
       "      <td>False</td>\n",
       "      <td>\"Cypherpunks and Wall Street\": The Security Token Revolution &amp; RegulationBruce Fenton presents at the World Blockchain Forum - and will cryptocurrency bring us to utopia or dystopia?</td>\n",
       "      <td>{'text': '\"Cypherpunks and Wall Street\": The Security Token Revolution &amp; RegulationBruce Fenton presents at the World Blockchain Forum - and will cryptocurrency bring us to utopia or dystopia?', 'category': 'cryptocurrency'}</td>\n",
       "    </tr>\n",
       "  </tbody>\n",
       "</table>\n",
       "</div>"
      ],
      "text/plain": [
       "                  category  \\\n",
       "0                     work   \n",
       "1             spirituality   \n",
       "2                  lgbtqia   \n",
       "4  artificial-intelligence   \n",
       "5           cryptocurrency   \n",
       "\n",
       "                                                                            title  \\\n",
       "0  \"21 Conversations\" - A fun (and easy) game for teams to get to know each other   \n",
       "1                                                    \"Biblical Porn\" at Mars Hill   \n",
       "2                                               \"CISGENDER?! Is That A Disease?!\"   \n",
       "4                                        \"Can I Train my Model on Your Computer?\"   \n",
       "5       \"Cypherpunks and Wall Street\": The Security Token Revolution & Regulation   \n",
       "\n",
       "                                                                                                                            subtitle  \\\n",
       "0                                                         A (new?) Icebreaker game to get your team to say all the interesting stuff   \n",
       "1  Author and UW lecturer Jessica Johnson talks about her new book on Mars Hill Church's and Mark Driscoll's evangelical masculinity   \n",
       "2                                                                           Or, a primer in gender vocabulary for the curious-minded   \n",
       "4                                                                           How we waste computational resources and how to stop it.   \n",
       "5                      Bruce Fenton presents at the World Blockchain Forum - and will cryptocurrency bring us to utopia or dystopia?   \n",
       "\n",
       "   subtitle_truncated_flag  \\\n",
       "0                    False   \n",
       "1                    False   \n",
       "2                    False   \n",
       "4                    False   \n",
       "5                    False   \n",
       "\n",
       "                                                                                                                                                                                     text  \\\n",
       "0                                \"21 Conversations\" - A fun (and easy) game for teams to get to know each otherA (new?) Icebreaker game to get your team to say all the interesting stuff   \n",
       "1                           \"Biblical Porn\" at Mars HillAuthor and UW lecturer Jessica Johnson talks about her new book on Mars Hill Church's and Mark Driscoll's evangelical masculinity   \n",
       "2                                                                                               \"CISGENDER?! Is That A Disease?!\"Or, a primer in gender vocabulary for the curious-minded   \n",
       "4                                                                                        \"Can I Train my Model on Your Computer?\"How we waste computational resources and how to stop it.   \n",
       "5  \"Cypherpunks and Wall Street\": The Security Token Revolution & RegulationBruce Fenton presents at the World Blockchain Forum - and will cryptocurrency bring us to utopia or dystopia?   \n",
       "\n",
       "                                                                                                                                                                                                                               meta  \n",
       "0                                          {'text': '\"21 Conversations\" - A fun (and easy) game for teams to get to know each otherA (new?) Icebreaker game to get your team to say all the interesting stuff', 'category': 'work'}  \n",
       "1                             {'text': '\"Biblical Porn\" at Mars HillAuthor and UW lecturer Jessica Johnson talks about her new book on Mars Hill Church's and Mark Driscoll's evangelical masculinity', 'category': 'spirituality'}  \n",
       "2                                                                                                      {'text': '\"CISGENDER?! Is That A Disease?!\"Or, a primer in gender vocabulary for the curious-minded', 'category': 'lgbtqia'}  \n",
       "4                                                                               {'text': '\"Can I Train my Model on Your Computer?\"How we waste computational resources and how to stop it.', 'category': 'artificial-intelligence'}  \n",
       "5  {'text': '\"Cypherpunks and Wall Street\": The Security Token Revolution & RegulationBruce Fenton presents at the World Blockchain Forum - and will cryptocurrency bring us to utopia or dystopia?', 'category': 'cryptocurrency'}  "
      ]
     },
     "execution_count": 8,
     "metadata": {},
     "output_type": "execute_result"
    }
   ],
   "source": [
    "df.head()\n",
    "\n",
    "# No vector embedding done yet"
   ]
  },
  {
   "cell_type": "markdown",
   "id": "f7abcdbf-0fde-4d2e-8f59-456454ae761d",
   "metadata": {},
   "source": [
    "## ChromaDB setup\n",
    "\n",
    "### Connecting to ChromaDB"
   ]
  },
  {
   "cell_type": "code",
   "execution_count": 9,
   "id": "c882f861-f791-4e14-aa3d-0c84aedd08e7",
   "metadata": {},
   "outputs": [],
   "source": [
    "from chromadb.config import Settings"
   ]
  },
  {
   "cell_type": "code",
   "execution_count": 10,
   "id": "c44eb0b0-522f-42b0-b3c1-5ca7b742f0ad",
   "metadata": {},
   "outputs": [],
   "source": [
    "# ChromaDB set up - client\n",
    "# If no parameter is provided within the paranthesis, \n",
    "# this uses the default in-memory DB\n",
    "\n",
    "# chroma_client = chromadb.Client() # in-memory DB\n",
    "\n",
    "# after migration to new version of ChromaDB\n",
    "# client = chromadb.EphemeralClient()\n",
    "\n",
    "\n",
    "# before migration / older version\n",
    "# chroma_client = chromadb.Client(Settings(\n",
    "#     persist_directory = 'medium-chroma-db',\n",
    "#     chroma_db_impl = 'duckdb+parquet'\n",
    "# )) #to persist the DB data\n",
    "\n",
    "\n",
    "# after migration to new version of ChromaDB\n",
    "chroma_client = chromadb.PersistentClient(path='medium-chroma-db')\n",
    " #to persist the DB data"
   ]
  },
  {
   "cell_type": "code",
   "execution_count": 11,
   "id": "97053a16-166b-4139-bf53-c41cff81fe63",
   "metadata": {},
   "outputs": [],
   "source": [
    "# Define and create the collection for ChromaDB\n",
    "\n",
    "# Drop the collection if required\n",
    "# chroma_client.delete_collection(name='medium-article')\n",
    "\n",
    "\n",
    "article_collection = chroma_client.create_collection(name = 'medium-article-2')"
   ]
  },
  {
   "cell_type": "markdown",
   "id": "a75e51d9-5f91-4829-ab2a-cdc8e2f6679b",
   "metadata": {},
   "source": [
    "## Insert Data"
   ]
  },
  {
   "cell_type": "code",
   "execution_count": 23,
   "id": "c85fb636-e5f0-4607-b364-8dec4a93b851",
   "metadata": {},
   "outputs": [
    {
     "ename": "NameError",
     "evalue": "name 'article_collection' is not defined",
     "output_type": "error",
     "traceback": [
      "\u001b[0;31m---------------------------------------------------------------------------\u001b[0m",
      "\u001b[0;31mNameError\u001b[0m                                 Traceback (most recent call last)",
      "Cell \u001b[0;32mIn[23], line 14\u001b[0m\n\u001b[1;32m      1\u001b[0m \u001b[38;5;66;03m# Inserting data\u001b[39;00m\n\u001b[1;32m      2\u001b[0m \u001b[38;5;66;03m# ids from df index need to get converted to string\u001b[39;00m\n\u001b[1;32m      3\u001b[0m \u001b[38;5;66;03m# all field values need to get converted to a list - that is how ChromaDB works\u001b[39;00m\n\u001b[0;32m   (...)\u001b[0m\n\u001b[1;32m     12\u001b[0m \n\u001b[1;32m     13\u001b[0m \u001b[38;5;66;03m# Optionally, to truncate collections\u001b[39;00m\n\u001b[0;32m---> 14\u001b[0m \u001b[43marticle_collection\u001b[49m\u001b[38;5;241m.\u001b[39mdelete()\n",
      "\u001b[0;31mNameError\u001b[0m: name 'article_collection' is not defined"
     ]
    }
   ],
   "source": [
    "# Inserting data\n",
    "# ids from df index need to get converted to string\n",
    "# all field values need to get converted to a list - that is how ChromaDB works\n",
    "\n",
    "# Leaving to ChromaDB to use the default embedding method\n",
    "\n",
    "# article_collection.add(\n",
    "#     ids=[f'{x}' for x in df.index.tolist()],\n",
    "#     documents=df['text'].tolist(),\n",
    "#     metadatas=df['meta'].tolist()\n",
    "# )\n",
    "\n",
    "# Optionally, to truncate collections\n",
    "article_collection.delete()"
   ]
  },
  {
   "cell_type": "markdown",
   "id": "590f7ed5-4ae3-45e7-ba47-51bb08b08ca4",
   "metadata": {},
   "source": [
    "## Inserting the data in batches\n",
    "#### if there is any issue in writing any row"
   ]
  },
  {
   "cell_type": "code",
   "execution_count": 12,
   "id": "e0273224-3d87-42d7-8589-4d17c00b8366",
   "metadata": {},
   "outputs": [
    {
     "name": "stderr",
     "output_type": "stream",
     "text": [
      "\u001b[0;93m2024-02-12 15:25:41.028356 [W:onnxruntime:, helper.cc:67 IsInputSupported] CoreML does not support input dim > 16384. Input:embeddings.word_embeddings.weight, shape: {30522,384}\u001b[m\n",
      "\u001b[0;93m2024-02-12 15:25:41.028761 [W:onnxruntime:, coreml_execution_provider.cc:81 GetCapability] CoreMLExecutionProvider::GetCapability, number of partitions supported by CoreML: 49 number of nodes in the graph: 323 number of nodes supported by CoreML: 231\u001b[m\n"
     ]
    },
    {
     "name": "stdout",
     "output_type": "stream",
     "text": [
      "Inserted batch 1/82\n",
      "Inserted batch 2/82\n"
     ]
    },
    {
     "ename": "KeyboardInterrupt",
     "evalue": "",
     "output_type": "error",
     "traceback": [
      "\u001b[0;31m---------------------------------------------------------------------------\u001b[0m",
      "\u001b[0;31mKeyboardInterrupt\u001b[0m                         Traceback (most recent call last)",
      "Cell \u001b[0;32mIn[12], line 18\u001b[0m\n\u001b[1;32m     15\u001b[0m         \u001b[38;5;28mprint\u001b[39m(\u001b[38;5;124mf\u001b[39m\u001b[38;5;124m\"\u001b[39m\u001b[38;5;124mInserted batch \u001b[39m\u001b[38;5;132;01m{\u001b[39;00mstart\u001b[38;5;241m/\u001b[39m\u001b[38;5;241m/\u001b[39mbatch_size\u001b[38;5;250m \u001b[39m\u001b[38;5;241m+\u001b[39m\u001b[38;5;250m \u001b[39m\u001b[38;5;241m1\u001b[39m\u001b[38;5;132;01m}\u001b[39;00m\u001b[38;5;124m/\u001b[39m\u001b[38;5;132;01m{\u001b[39;00m(total\u001b[38;5;250m \u001b[39m\u001b[38;5;241m+\u001b[39m\u001b[38;5;250m \u001b[39mbatch_size\u001b[38;5;250m \u001b[39m\u001b[38;5;241m-\u001b[39m\u001b[38;5;250m \u001b[39m\u001b[38;5;241m1\u001b[39m)\u001b[38;5;241m/\u001b[39m\u001b[38;5;241m/\u001b[39mbatch_size\u001b[38;5;132;01m}\u001b[39;00m\u001b[38;5;124m\"\u001b[39m)\n\u001b[1;32m     17\u001b[0m \u001b[38;5;66;03m# Example usage\u001b[39;00m\n\u001b[0;32m---> 18\u001b[0m \u001b[43minsert_in_batches\u001b[49m\u001b[43m(\u001b[49m\n\u001b[1;32m     19\u001b[0m \u001b[43m    \u001b[49m\u001b[43marticle_collection\u001b[49m\u001b[43m,\u001b[49m\n\u001b[1;32m     20\u001b[0m \u001b[43m    \u001b[49m\u001b[43mids\u001b[49m\u001b[38;5;241;43m=\u001b[39;49m\u001b[43m[\u001b[49m\u001b[38;5;124;43mf\u001b[39;49m\u001b[38;5;124;43m'\u001b[39;49m\u001b[38;5;132;43;01m{\u001b[39;49;00m\u001b[43mx\u001b[49m\u001b[38;5;132;43;01m}\u001b[39;49;00m\u001b[38;5;124;43m'\u001b[39;49m\u001b[43m \u001b[49m\u001b[38;5;28;43;01mfor\u001b[39;49;00m\u001b[43m \u001b[49m\u001b[43mx\u001b[49m\u001b[43m \u001b[49m\u001b[38;5;129;43;01min\u001b[39;49;00m\u001b[43m \u001b[49m\u001b[43mdf\u001b[49m\u001b[38;5;241;43m.\u001b[39;49m\u001b[43mindex\u001b[49m\u001b[38;5;241;43m.\u001b[39;49m\u001b[43mtolist\u001b[49m\u001b[43m(\u001b[49m\u001b[43m)\u001b[49m\u001b[43m]\u001b[49m\u001b[43m,\u001b[49m\n\u001b[1;32m     21\u001b[0m \u001b[43m    \u001b[49m\u001b[43mdocuments\u001b[49m\u001b[38;5;241;43m=\u001b[39;49m\u001b[43mdf\u001b[49m\u001b[43m[\u001b[49m\u001b[38;5;124;43m'\u001b[39;49m\u001b[38;5;124;43mtext\u001b[39;49m\u001b[38;5;124;43m'\u001b[39;49m\u001b[43m]\u001b[49m\u001b[38;5;241;43m.\u001b[39;49m\u001b[43mtolist\u001b[49m\u001b[43m(\u001b[49m\u001b[43m)\u001b[49m\u001b[43m,\u001b[49m\n\u001b[1;32m     22\u001b[0m \u001b[43m    \u001b[49m\u001b[43mmetadatas\u001b[49m\u001b[38;5;241;43m=\u001b[39;49m\u001b[43mdf\u001b[49m\u001b[43m[\u001b[49m\u001b[38;5;124;43m'\u001b[39;49m\u001b[38;5;124;43mmeta\u001b[39;49m\u001b[38;5;124;43m'\u001b[39;49m\u001b[43m]\u001b[49m\u001b[38;5;241;43m.\u001b[39;49m\u001b[43mtolist\u001b[49m\u001b[43m(\u001b[49m\u001b[43m)\u001b[49m\u001b[43m,\u001b[49m\n\u001b[1;32m     23\u001b[0m \u001b[43m    \u001b[49m\u001b[43mbatch_size\u001b[49m\u001b[38;5;241;43m=\u001b[39;49m\u001b[38;5;241;43m1000\u001b[39;49m\u001b[43m  \u001b[49m\u001b[38;5;66;43;03m# Adjust the batch size based on your environment's capacity\u001b[39;49;00m\n\u001b[1;32m     24\u001b[0m \u001b[43m)\u001b[49m\n",
      "Cell \u001b[0;32mIn[12], line 10\u001b[0m, in \u001b[0;36minsert_in_batches\u001b[0;34m(collection, ids, documents, metadatas, batch_size)\u001b[0m\n\u001b[1;32m      7\u001b[0m batch_metadatas \u001b[38;5;241m=\u001b[39m metadatas[start:end]\n\u001b[1;32m      9\u001b[0m \u001b[38;5;66;03m# Insert the current batch\u001b[39;00m\n\u001b[0;32m---> 10\u001b[0m \u001b[43mcollection\u001b[49m\u001b[38;5;241;43m.\u001b[39;49m\u001b[43madd\u001b[49m\u001b[43m(\u001b[49m\n\u001b[1;32m     11\u001b[0m \u001b[43m    \u001b[49m\u001b[43mids\u001b[49m\u001b[38;5;241;43m=\u001b[39;49m\u001b[43mbatch_ids\u001b[49m\u001b[43m,\u001b[49m\n\u001b[1;32m     12\u001b[0m \u001b[43m    \u001b[49m\u001b[43mdocuments\u001b[49m\u001b[38;5;241;43m=\u001b[39;49m\u001b[43mbatch_documents\u001b[49m\u001b[43m,\u001b[49m\n\u001b[1;32m     13\u001b[0m \u001b[43m    \u001b[49m\u001b[43mmetadatas\u001b[49m\u001b[38;5;241;43m=\u001b[39;49m\u001b[43mbatch_metadatas\u001b[49m\n\u001b[1;32m     14\u001b[0m \u001b[43m\u001b[49m\u001b[43m)\u001b[49m\n\u001b[1;32m     15\u001b[0m \u001b[38;5;28mprint\u001b[39m(\u001b[38;5;124mf\u001b[39m\u001b[38;5;124m\"\u001b[39m\u001b[38;5;124mInserted batch \u001b[39m\u001b[38;5;132;01m{\u001b[39;00mstart\u001b[38;5;241m/\u001b[39m\u001b[38;5;241m/\u001b[39mbatch_size\u001b[38;5;250m \u001b[39m\u001b[38;5;241m+\u001b[39m\u001b[38;5;250m \u001b[39m\u001b[38;5;241m1\u001b[39m\u001b[38;5;132;01m}\u001b[39;00m\u001b[38;5;124m/\u001b[39m\u001b[38;5;132;01m{\u001b[39;00m(total\u001b[38;5;250m \u001b[39m\u001b[38;5;241m+\u001b[39m\u001b[38;5;250m \u001b[39mbatch_size\u001b[38;5;250m \u001b[39m\u001b[38;5;241m-\u001b[39m\u001b[38;5;250m \u001b[39m\u001b[38;5;241m1\u001b[39m)\u001b[38;5;241m/\u001b[39m\u001b[38;5;241m/\u001b[39mbatch_size\u001b[38;5;132;01m}\u001b[39;00m\u001b[38;5;124m\"\u001b[39m)\n",
      "File \u001b[0;32m~/.local/lib/python3.11/site-packages/chromadb/api/models/Collection.py:154\u001b[0m, in \u001b[0;36mCollection.add\u001b[0;34m(self, ids, embeddings, metadatas, documents, images, uris)\u001b[0m\n\u001b[1;32m    151\u001b[0m \u001b[38;5;28;01mif\u001b[39;00m embeddings \u001b[38;5;129;01mis\u001b[39;00m \u001b[38;5;28;01mNone\u001b[39;00m:\n\u001b[1;32m    152\u001b[0m     \u001b[38;5;66;03m# At this point, we know that one of documents or images are provided from the validation above\u001b[39;00m\n\u001b[1;32m    153\u001b[0m     \u001b[38;5;28;01mif\u001b[39;00m documents \u001b[38;5;129;01mis\u001b[39;00m \u001b[38;5;129;01mnot\u001b[39;00m \u001b[38;5;28;01mNone\u001b[39;00m:\n\u001b[0;32m--> 154\u001b[0m         embeddings \u001b[38;5;241m=\u001b[39m \u001b[38;5;28;43mself\u001b[39;49m\u001b[38;5;241;43m.\u001b[39;49m\u001b[43m_embed\u001b[49m\u001b[43m(\u001b[49m\u001b[38;5;28;43minput\u001b[39;49m\u001b[38;5;241;43m=\u001b[39;49m\u001b[43mdocuments\u001b[49m\u001b[43m)\u001b[49m\n\u001b[1;32m    155\u001b[0m     \u001b[38;5;28;01melif\u001b[39;00m images \u001b[38;5;129;01mis\u001b[39;00m \u001b[38;5;129;01mnot\u001b[39;00m \u001b[38;5;28;01mNone\u001b[39;00m:\n\u001b[1;32m    156\u001b[0m         embeddings \u001b[38;5;241m=\u001b[39m \u001b[38;5;28mself\u001b[39m\u001b[38;5;241m.\u001b[39m_embed(\u001b[38;5;28minput\u001b[39m\u001b[38;5;241m=\u001b[39mimages)\n",
      "File \u001b[0;32m~/.local/lib/python3.11/site-packages/chromadb/api/models/Collection.py:633\u001b[0m, in \u001b[0;36mCollection._embed\u001b[0;34m(self, input)\u001b[0m\n\u001b[1;32m    628\u001b[0m \u001b[38;5;28;01mif\u001b[39;00m \u001b[38;5;28mself\u001b[39m\u001b[38;5;241m.\u001b[39m_embedding_function \u001b[38;5;129;01mis\u001b[39;00m \u001b[38;5;28;01mNone\u001b[39;00m:\n\u001b[1;32m    629\u001b[0m     \u001b[38;5;28;01mraise\u001b[39;00m \u001b[38;5;167;01mValueError\u001b[39;00m(\n\u001b[1;32m    630\u001b[0m         \u001b[38;5;124m\"\u001b[39m\u001b[38;5;124mYou must provide an embedding function to compute embeddings.\u001b[39m\u001b[38;5;124m\"\u001b[39m\n\u001b[1;32m    631\u001b[0m         \u001b[38;5;124m\"\u001b[39m\u001b[38;5;124mhttps://docs.trychroma.com/embeddings\u001b[39m\u001b[38;5;124m\"\u001b[39m\n\u001b[1;32m    632\u001b[0m     )\n\u001b[0;32m--> 633\u001b[0m \u001b[38;5;28;01mreturn\u001b[39;00m \u001b[38;5;28;43mself\u001b[39;49m\u001b[38;5;241;43m.\u001b[39;49m\u001b[43m_embedding_function\u001b[49m\u001b[43m(\u001b[49m\u001b[38;5;28;43minput\u001b[39;49m\u001b[38;5;241;43m=\u001b[39;49m\u001b[38;5;28;43minput\u001b[39;49m\u001b[43m)\u001b[49m\n",
      "File \u001b[0;32m~/.local/lib/python3.11/site-packages/chromadb/utils/embedding_functions.py:509\u001b[0m, in \u001b[0;36mONNXMiniLM_L6_V2.__call__\u001b[0;34m(self, input)\u001b[0m\n\u001b[1;32m    507\u001b[0m \u001b[38;5;28mself\u001b[39m\u001b[38;5;241m.\u001b[39m_download_model_if_not_exists()\n\u001b[1;32m    508\u001b[0m \u001b[38;5;28mself\u001b[39m\u001b[38;5;241m.\u001b[39m_init_model_and_tokenizer()\n\u001b[0;32m--> 509\u001b[0m res \u001b[38;5;241m=\u001b[39m cast(Embeddings, \u001b[38;5;28;43mself\u001b[39;49m\u001b[38;5;241;43m.\u001b[39;49m\u001b[43m_forward\u001b[49m\u001b[43m(\u001b[49m\u001b[38;5;28;43minput\u001b[39;49m\u001b[43m)\u001b[49m\u001b[38;5;241m.\u001b[39mtolist())\n\u001b[1;32m    510\u001b[0m \u001b[38;5;28;01mreturn\u001b[39;00m res\n",
      "File \u001b[0;32m~/.local/lib/python3.11/site-packages/chromadb/utils/embedding_functions.py:458\u001b[0m, in \u001b[0;36mONNXMiniLM_L6_V2._forward\u001b[0;34m(self, documents, batch_size)\u001b[0m\n\u001b[1;32m    449\u001b[0m attention_mask \u001b[38;5;241m=\u001b[39m np\u001b[38;5;241m.\u001b[39marray([e\u001b[38;5;241m.\u001b[39mattention_mask \u001b[38;5;28;01mfor\u001b[39;00m e \u001b[38;5;129;01min\u001b[39;00m encoded])\n\u001b[1;32m    450\u001b[0m onnx_input \u001b[38;5;241m=\u001b[39m {\n\u001b[1;32m    451\u001b[0m     \u001b[38;5;124m\"\u001b[39m\u001b[38;5;124minput_ids\u001b[39m\u001b[38;5;124m\"\u001b[39m: np\u001b[38;5;241m.\u001b[39marray(input_ids, dtype\u001b[38;5;241m=\u001b[39mnp\u001b[38;5;241m.\u001b[39mint64),\n\u001b[1;32m    452\u001b[0m     \u001b[38;5;124m\"\u001b[39m\u001b[38;5;124mattention_mask\u001b[39m\u001b[38;5;124m\"\u001b[39m: np\u001b[38;5;241m.\u001b[39marray(attention_mask, dtype\u001b[38;5;241m=\u001b[39mnp\u001b[38;5;241m.\u001b[39mint64),\n\u001b[0;32m   (...)\u001b[0m\n\u001b[1;32m    456\u001b[0m     ),\n\u001b[1;32m    457\u001b[0m }\n\u001b[0;32m--> 458\u001b[0m model_output \u001b[38;5;241m=\u001b[39m \u001b[38;5;28;43mself\u001b[39;49m\u001b[38;5;241;43m.\u001b[39;49m\u001b[43mmodel\u001b[49m\u001b[38;5;241;43m.\u001b[39;49m\u001b[43mrun\u001b[49m\u001b[43m(\u001b[49m\u001b[38;5;28;43;01mNone\u001b[39;49;00m\u001b[43m,\u001b[49m\u001b[43m \u001b[49m\u001b[43monnx_input\u001b[49m\u001b[43m)\u001b[49m\n\u001b[1;32m    459\u001b[0m last_hidden_state \u001b[38;5;241m=\u001b[39m model_output[\u001b[38;5;241m0\u001b[39m]\n\u001b[1;32m    460\u001b[0m \u001b[38;5;66;03m# Perform mean pooling with attention weighting\u001b[39;00m\n",
      "File \u001b[0;32m~/.local/lib/python3.11/site-packages/onnxruntime/capi/onnxruntime_inference_collection.py:220\u001b[0m, in \u001b[0;36mSession.run\u001b[0;34m(self, output_names, input_feed, run_options)\u001b[0m\n\u001b[1;32m    218\u001b[0m     output_names \u001b[38;5;241m=\u001b[39m [output\u001b[38;5;241m.\u001b[39mname \u001b[38;5;28;01mfor\u001b[39;00m output \u001b[38;5;129;01min\u001b[39;00m \u001b[38;5;28mself\u001b[39m\u001b[38;5;241m.\u001b[39m_outputs_meta]\n\u001b[1;32m    219\u001b[0m \u001b[38;5;28;01mtry\u001b[39;00m:\n\u001b[0;32m--> 220\u001b[0m     \u001b[38;5;28;01mreturn\u001b[39;00m \u001b[38;5;28;43mself\u001b[39;49m\u001b[38;5;241;43m.\u001b[39;49m\u001b[43m_sess\u001b[49m\u001b[38;5;241;43m.\u001b[39;49m\u001b[43mrun\u001b[49m\u001b[43m(\u001b[49m\u001b[43moutput_names\u001b[49m\u001b[43m,\u001b[49m\u001b[43m \u001b[49m\u001b[43minput_feed\u001b[49m\u001b[43m,\u001b[49m\u001b[43m \u001b[49m\u001b[43mrun_options\u001b[49m\u001b[43m)\u001b[49m\n\u001b[1;32m    221\u001b[0m \u001b[38;5;28;01mexcept\u001b[39;00m C\u001b[38;5;241m.\u001b[39mEPFail \u001b[38;5;28;01mas\u001b[39;00m err:\n\u001b[1;32m    222\u001b[0m     \u001b[38;5;28;01mif\u001b[39;00m \u001b[38;5;28mself\u001b[39m\u001b[38;5;241m.\u001b[39m_enable_fallback:\n",
      "\u001b[0;31mKeyboardInterrupt\u001b[0m: "
     ]
    }
   ],
   "source": [
    "def insert_in_batches(collection, ids, documents, metadatas, batch_size=100):\n",
    "    total = len(ids)\n",
    "    for start in range(0, total, batch_size):\n",
    "        end = start + batch_size\n",
    "        batch_ids = ids[start:end]\n",
    "        batch_documents = documents[start:end]\n",
    "        batch_metadatas = metadatas[start:end]\n",
    "        \n",
    "        # Insert the current batch\n",
    "        collection.add(\n",
    "            ids=batch_ids,\n",
    "            documents=batch_documents,\n",
    "            metadatas=batch_metadatas\n",
    "        )\n",
    "        print(f\"Inserted batch {start//batch_size + 1}/{(total + batch_size - 1)//batch_size}\")\n",
    "\n",
    "# Example usage\n",
    "insert_in_batches(\n",
    "    article_collection,\n",
    "    ids=[f'{x}' for x in df.index.tolist()],\n",
    "    documents=df['text'].tolist(),\n",
    "    metadatas=df['meta'].tolist(),\n",
    "    batch_size=1000  # Adjust the batch size based on your environment's capacity\n",
    ")"
   ]
  },
  {
   "cell_type": "markdown",
   "id": "1029c6f8-771a-4488-b3c1-04b45b1157ad",
   "metadata": {},
   "source": [
    "### Upsert the data (optional)"
   ]
  },
  {
   "cell_type": "code",
   "execution_count": null,
   "id": "909a4417-03db-4761-b97e-41a45c539d71",
   "metadata": {},
   "outputs": [],
   "source": [
    "# Upserting the data\n",
    "# If the record is already present, an Update would happen\n",
    "\n",
    "article_collection.upsert(\n",
    "    ids=[f'{x}' for x in df.index.tolist()],\n",
    "    documents=df['text'].tolist(),\n",
    "    metadatas=df['meta'].tolist()\n",
    ")\n"
   ]
  },
  {
   "cell_type": "markdown",
   "id": "a06cd03e-a167-4324-9865-79b4b778694c",
   "metadata": {},
   "source": [
    "## Vector Query\n"
   ]
  },
  {
   "cell_type": "code",
   "execution_count": 13,
   "id": "84848df9-3637-49ab-a02e-46b716dd33e3",
   "metadata": {},
   "outputs": [
    {
     "data": {
      "text/plain": [
       "{'ids': [['2586']],\n",
       " 'distances': [[0.677875280380249]],\n",
       " 'metadatas': [[{'category': 'artificial-intelligence',\n",
       "    'text': '5 Resources to Inspire Your Next Data Science ProjectDon’t worry — getting started is the hardest part'}]],\n",
       " 'embeddings': None,\n",
       " 'documents': [['5 Resources to Inspire Your Next Data Science ProjectDon’t worry — getting started is the hardest part']],\n",
       " 'uris': None,\n",
       " 'data': None}"
      ]
     },
     "execution_count": 13,
     "metadata": {},
     "output_type": "execute_result"
    }
   ],
   "source": [
    "qry_str = 'best data science library?'\n",
    "\n",
    "article_collection.query(query_texts=qry_str, n_results=1)\n"
   ]
  },
  {
   "cell_type": "code",
   "execution_count": 14,
   "id": "dabf7152-fd66-4f0a-9f44-ae2c01cea064",
   "metadata": {},
   "outputs": [
    {
     "data": {
      "text/plain": [
       "{'ids': [['289']],\n",
       " 'distances': [[1.0606274604797363]],\n",
       " 'metadatas': [[{'category': 'data-science',\n",
       "    'text': '(Robot) data scientists as a serviceAutomating data science with symbolic regression and probabilistic programming.'}]],\n",
       " 'embeddings': None,\n",
       " 'documents': [['(Robot) data scientists as a serviceAutomating data science with symbolic regression and probabilistic programming.']],\n",
       " 'uris': None,\n",
       " 'data': None}"
      ]
     },
     "execution_count": 14,
     "metadata": {},
     "output_type": "execute_result"
    }
   ],
   "source": [
    "qry_str = 'best data ai library?'\n",
    "\n",
    "article_collection.query(query_texts=qry_str, n_results=1)"
   ]
  },
  {
   "cell_type": "code",
   "execution_count": null,
   "id": "294e6595-b1e1-4b93-8737-c39e24e31af0",
   "metadata": {},
   "outputs": [],
   "source": []
  }
 ],
 "metadata": {
  "kernelspec": {
   "display_name": "Python 3 (ipykernel)",
   "language": "python",
   "name": "python3"
  },
  "language_info": {
   "codemirror_mode": {
    "name": "ipython",
    "version": 3
   },
   "file_extension": ".py",
   "mimetype": "text/x-python",
   "name": "python",
   "nbconvert_exporter": "python",
   "pygments_lexer": "ipython3",
   "version": "3.11.5"
  }
 },
 "nbformat": 4,
 "nbformat_minor": 5
}
